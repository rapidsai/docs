{
 "cells": [
  {
   "cell_type": "markdown",
   "metadata": {},
   "source": [
    "# Pickling Models for Persistence\n",
    "\n",
    "This notebook demonstrates simple pickling of both single-GPU and multi-GPU cuML models for persistence"
   ]
  },
  {
   "cell_type": "code",
   "execution_count": 1,
   "metadata": {
    "execution": {
     "iopub.execute_input": "2023-02-13T21:54:58.071716Z",
     "iopub.status.busy": "2023-02-13T21:54:58.071196Z",
     "iopub.status.idle": "2023-02-13T21:54:58.087609Z",
     "shell.execute_reply": "2023-02-13T21:54:58.086227Z"
    }
   },
   "outputs": [],
   "source": [
    "import warnings\n",
    "warnings.filterwarnings(\"ignore\", category=FutureWarning)"
   ]
  },
  {
   "cell_type": "markdown",
   "metadata": {},
   "source": [
    "## Single GPU Model Pickling\n",
    "\n",
    "All single-GPU estimators are pickleable. The following example demonstrates the creation of a synthetic dataset, training, and pickling of the resulting model for storage. Trained single-GPU models can also be used to distribute the inference on a Dask cluster, which the `Distributed Model Pickling` section below demonstrates."
   ]
  },
  {
   "cell_type": "code",
   "execution_count": 2,
   "metadata": {
    "execution": {
     "iopub.execute_input": "2023-02-13T21:54:58.092759Z",
     "iopub.status.busy": "2023-02-13T21:54:58.092269Z",
     "iopub.status.idle": "2023-02-13T21:55:04.261723Z",
     "shell.execute_reply": "2023-02-13T21:55:04.261039Z"
    }
   },
   "outputs": [],
   "source": [
    "from cuml.datasets import make_blobs\n",
    "\n",
    "X, y = make_blobs(n_samples=50,\n",
    "                  n_features=10,\n",
    "                  centers=5,\n",
    "                  cluster_std=0.4,\n",
    "                  random_state=0)"
   ]
  },
  {
   "cell_type": "code",
   "execution_count": 3,
   "metadata": {
    "execution": {
     "iopub.execute_input": "2023-02-13T21:55:04.266324Z",
     "iopub.status.busy": "2023-02-13T21:55:04.265996Z",
     "iopub.status.idle": "2023-02-13T21:55:04.464231Z",
     "shell.execute_reply": "2023-02-13T21:55:04.463251Z"
    }
   },
   "outputs": [
    {
     "data": {
      "text/plain": [
       "KMeans()"
      ]
     },
     "execution_count": 3,
     "metadata": {},
     "output_type": "execute_result"
    }
   ],
   "source": [
    "from cuml.cluster import KMeans\n",
    "\n",
    "model = KMeans(n_clusters=5)\n",
    "\n",
    "model.fit(X)"
   ]
  },
  {
   "cell_type": "code",
   "execution_count": 4,
   "metadata": {
    "execution": {
     "iopub.execute_input": "2023-02-13T21:55:04.468302Z",
     "iopub.status.busy": "2023-02-13T21:55:04.468054Z",
     "iopub.status.idle": "2023-02-13T21:55:04.474239Z",
     "shell.execute_reply": "2023-02-13T21:55:04.473023Z"
    }
   },
   "outputs": [],
   "source": [
    "import pickle\n",
    "\n",
    "pickle.dump(model, open(\"kmeans_model.pkl\", \"wb\"))"
   ]
  },
  {
   "cell_type": "code",
   "execution_count": 5,
   "metadata": {
    "execution": {
     "iopub.execute_input": "2023-02-13T21:55:04.478519Z",
     "iopub.status.busy": "2023-02-13T21:55:04.478103Z",
     "iopub.status.idle": "2023-02-13T21:55:04.485314Z",
     "shell.execute_reply": "2023-02-13T21:55:04.483960Z"
    }
   },
   "outputs": [],
   "source": [
    "model = pickle.load(open(\"kmeans_model.pkl\", \"rb\"))"
   ]
  },
  {
   "cell_type": "code",
   "execution_count": 6,
   "metadata": {
    "execution": {
     "iopub.execute_input": "2023-02-13T21:55:04.489924Z",
     "iopub.status.busy": "2023-02-13T21:55:04.489528Z",
     "iopub.status.idle": "2023-02-13T21:55:04.499816Z",
     "shell.execute_reply": "2023-02-13T21:55:04.498459Z"
    }
   },
   "outputs": [
    {
     "data": {
      "text/plain": [
       "array([[ 4.6749854,  8.213466 , -9.075721 ,  9.568374 ,  8.454808 ,\n",
       "        -1.2327975,  3.3903713, -7.8282413, -0.8454461,  0.6288572],\n",
       "       [-3.008261 ,  4.6259604, -4.4832497,  2.2284572,  1.643532 ,\n",
       "        -2.4505193, -5.258201 , -1.6679401, -7.985753 ,  2.8311472],\n",
       "       [-4.2439985,  5.610707 , -5.669777 , -1.7957242, -9.255529 ,\n",
       "         0.7177438,  4.4435906, -2.8747153, -5.0900965,  9.684122 ],\n",
       "       [-5.6072407,  2.2695985, -3.7516537, -1.8182003, -5.143028 ,\n",
       "         7.599363 ,  2.8252366,  8.773043 ,  1.6198314,  1.1772048],\n",
       "       [ 5.261548 , -4.0487256,  4.464928 , -2.9367516,  3.5061095,\n",
       "        -4.016832 , -3.463885 ,  6.078449 , -6.953326 , -1.004144 ]],\n",
       "      dtype=float32)"
      ]
     },
     "execution_count": 6,
     "metadata": {},
     "output_type": "execute_result"
    }
   ],
   "source": [
    "model.cluster_centers_"
   ]
  },
  {
   "cell_type": "markdown",
   "metadata": {},
   "source": [
    "## Distributed Model Pickling"
   ]
  },
  {
   "cell_type": "markdown",
   "metadata": {},
   "source": [
    "The distributed estimator wrappers inside of the `cuml.dask` are not intended to be pickled directly. The Dask cuML estimators provide a function `get_combined_model()`, which returns the trained single-GPU model for pickling. The combined model can be used for inference on a single-GPU, and the `ParallelPostFit` wrapper from the [Dask-ML](https://ml.dask.org/meta-estimators.html) library can be used to perform distributed inference on a Dask cluster."
   ]
  },
  {
   "cell_type": "code",
   "execution_count": 7,
   "metadata": {
    "execution": {
     "iopub.execute_input": "2023-02-13T21:55:04.505641Z",
     "iopub.status.busy": "2023-02-13T21:55:04.505089Z",
     "iopub.status.idle": "2023-02-13T21:55:06.826961Z",
     "shell.execute_reply": "2023-02-13T21:55:06.826345Z"
    }
   },
   "outputs": [
    {
     "name": "stderr",
     "output_type": "stream",
     "text": [
      "2023-02-13 21:55:06,507 - distributed.preloading - INFO - Creating preload: dask_cuda.initialize\n",
      "2023-02-13 21:55:06,507 - distributed.preloading - INFO - Import preload module: dask_cuda.initialize\n",
      "2023-02-13 21:55:06,534 - distributed.preloading - INFO - Creating preload: dask_cuda.initialize\n",
      "2023-02-13 21:55:06,534 - distributed.preloading - INFO - Import preload module: dask_cuda.initialize\n"
     ]
    },
    {
     "data": {
      "text/html": [
       "<div>\n",
       "    <div style=\"width: 24px; height: 24px; background-color: #e1e1e1; border: 3px solid #9D9D9D; border-radius: 5px; position: absolute;\"> </div>\n",
       "    <div style=\"margin-left: 48px;\">\n",
       "        <h3 style=\"margin-bottom: 0px;\">Client</h3>\n",
       "        <p style=\"color: #9D9D9D; margin-bottom: 0px;\">Client-13e4da37-abe9-11ed-904a-0242ac110004</p>\n",
       "        <table style=\"width: 100%; text-align: left;\">\n",
       "\n",
       "        <tr>\n",
       "        \n",
       "            <td style=\"text-align: left;\"><strong>Connection method:</strong> Cluster object</td>\n",
       "            <td style=\"text-align: left;\"><strong>Cluster type:</strong> dask_cuda.LocalCUDACluster</td>\n",
       "        \n",
       "        </tr>\n",
       "\n",
       "        \n",
       "            <tr>\n",
       "                <td style=\"text-align: left;\">\n",
       "                    <strong>Dashboard: </strong> <a href=\"http://127.0.0.1:8787/status\" target=\"_blank\">http://127.0.0.1:8787/status</a>\n",
       "                </td>\n",
       "                <td style=\"text-align: left;\"></td>\n",
       "            </tr>\n",
       "        \n",
       "\n",
       "        </table>\n",
       "\n",
       "        \n",
       "            <button style=\"margin-bottom: 12px;\" data-commandlinker-command=\"dask:populate-and-launch-layout\" data-commandlinker-args='{\"url\": \"http://127.0.0.1:8787/status\" }'>\n",
       "                Launch dashboard in JupyterLab\n",
       "            </button>\n",
       "        \n",
       "\n",
       "        \n",
       "            <details>\n",
       "            <summary style=\"margin-bottom: 20px;\"><h3 style=\"display: inline;\">Cluster Info</h3></summary>\n",
       "            <div class=\"jp-RenderedHTMLCommon jp-RenderedHTML jp-mod-trusted jp-OutputArea-output\">\n",
       "    <div style=\"width: 24px; height: 24px; background-color: #e1e1e1; border: 3px solid #9D9D9D; border-radius: 5px; position: absolute;\">\n",
       "    </div>\n",
       "    <div style=\"margin-left: 48px;\">\n",
       "        <h3 style=\"margin-bottom: 0px; margin-top: 0px;\">LocalCUDACluster</h3>\n",
       "        <p style=\"color: #9D9D9D; margin-bottom: 0px;\">9f4fd3a4</p>\n",
       "        <table style=\"width: 100%; text-align: left;\">\n",
       "            <tr>\n",
       "                <td style=\"text-align: left;\">\n",
       "                    <strong>Dashboard:</strong> <a href=\"http://127.0.0.1:8787/status\" target=\"_blank\">http://127.0.0.1:8787/status</a>\n",
       "                </td>\n",
       "                <td style=\"text-align: left;\">\n",
       "                    <strong>Workers:</strong> 2\n",
       "                </td>\n",
       "            </tr>\n",
       "            <tr>\n",
       "                <td style=\"text-align: left;\">\n",
       "                    <strong>Total threads:</strong> 2\n",
       "                </td>\n",
       "                <td style=\"text-align: left;\">\n",
       "                    <strong>Total memory:</strong> 45.78 GiB\n",
       "                </td>\n",
       "            </tr>\n",
       "            \n",
       "            <tr>\n",
       "    <td style=\"text-align: left;\"><strong>Status:</strong> running</td>\n",
       "    <td style=\"text-align: left;\"><strong>Using processes:</strong> True</td>\n",
       "</tr>\n",
       "\n",
       "            \n",
       "        </table>\n",
       "\n",
       "        <details>\n",
       "            <summary style=\"margin-bottom: 20px;\">\n",
       "                <h3 style=\"display: inline;\">Scheduler Info</h3>\n",
       "            </summary>\n",
       "\n",
       "            <div style=\"\">\n",
       "    <div>\n",
       "        <div style=\"width: 24px; height: 24px; background-color: #FFF7E5; border: 3px solid #FF6132; border-radius: 5px; position: absolute;\"> </div>\n",
       "        <div style=\"margin-left: 48px;\">\n",
       "            <h3 style=\"margin-bottom: 0px;\">Scheduler</h3>\n",
       "            <p style=\"color: #9D9D9D; margin-bottom: 0px;\">Scheduler-46a903ee-d2ab-4eb2-837d-0dfc82f2b0d4</p>\n",
       "            <table style=\"width: 100%; text-align: left;\">\n",
       "                <tr>\n",
       "                    <td style=\"text-align: left;\">\n",
       "                        <strong>Comm:</strong> tcp://127.0.0.1:44629\n",
       "                    </td>\n",
       "                    <td style=\"text-align: left;\">\n",
       "                        <strong>Workers:</strong> 2\n",
       "                    </td>\n",
       "                </tr>\n",
       "                <tr>\n",
       "                    <td style=\"text-align: left;\">\n",
       "                        <strong>Dashboard:</strong> <a href=\"http://127.0.0.1:8787/status\" target=\"_blank\">http://127.0.0.1:8787/status</a>\n",
       "                    </td>\n",
       "                    <td style=\"text-align: left;\">\n",
       "                        <strong>Total threads:</strong> 2\n",
       "                    </td>\n",
       "                </tr>\n",
       "                <tr>\n",
       "                    <td style=\"text-align: left;\">\n",
       "                        <strong>Started:</strong> Just now\n",
       "                    </td>\n",
       "                    <td style=\"text-align: left;\">\n",
       "                        <strong>Total memory:</strong> 45.78 GiB\n",
       "                    </td>\n",
       "                </tr>\n",
       "            </table>\n",
       "        </div>\n",
       "    </div>\n",
       "\n",
       "    <details style=\"margin-left: 48px;\">\n",
       "        <summary style=\"margin-bottom: 20px;\">\n",
       "            <h3 style=\"display: inline;\">Workers</h3>\n",
       "        </summary>\n",
       "\n",
       "        \n",
       "        <div style=\"margin-bottom: 20px;\">\n",
       "            <div style=\"width: 24px; height: 24px; background-color: #DBF5FF; border: 3px solid #4CC9FF; border-radius: 5px; position: absolute;\"> </div>\n",
       "            <div style=\"margin-left: 48px;\">\n",
       "            <details>\n",
       "                <summary>\n",
       "                    <h4 style=\"margin-bottom: 0px; display: inline;\">Worker: 0</h4>\n",
       "                </summary>\n",
       "                <table style=\"width: 100%; text-align: left;\">\n",
       "                    <tr>\n",
       "                        <td style=\"text-align: left;\">\n",
       "                            <strong>Comm: </strong> tcp://127.0.0.1:34203\n",
       "                        </td>\n",
       "                        <td style=\"text-align: left;\">\n",
       "                            <strong>Total threads: </strong> 1\n",
       "                        </td>\n",
       "                    </tr>\n",
       "                    <tr>\n",
       "                        <td style=\"text-align: left;\">\n",
       "                            <strong>Dashboard: </strong> <a href=\"http://127.0.0.1:43003/status\" target=\"_blank\">http://127.0.0.1:43003/status</a>\n",
       "                        </td>\n",
       "                        <td style=\"text-align: left;\">\n",
       "                            <strong>Memory: </strong> 22.89 GiB\n",
       "                        </td>\n",
       "                    </tr>\n",
       "                    <tr>\n",
       "                        <td style=\"text-align: left;\">\n",
       "                            <strong>Nanny: </strong> tcp://127.0.0.1:41877\n",
       "                        </td>\n",
       "                        <td style=\"text-align: left;\"></td>\n",
       "                    </tr>\n",
       "                    <tr>\n",
       "                        <td colspan=\"2\" style=\"text-align: left;\">\n",
       "                            <strong>Local directory: </strong> /tmp/dask-worker-space/worker-qqu_1h3c\n",
       "                        </td>\n",
       "                    </tr>\n",
       "\n",
       "                    \n",
       "                    <tr>\n",
       "                        <td style=\"text-align: left;\">\n",
       "                            <strong>GPU: </strong>Quadro GV100\n",
       "                        </td>\n",
       "                        <td style=\"text-align: left;\">\n",
       "                            <strong>GPU memory: </strong> 32.00 GiB\n",
       "                        </td>\n",
       "                    </tr>\n",
       "                    \n",
       "\n",
       "                    \n",
       "\n",
       "                </table>\n",
       "            </details>\n",
       "            </div>\n",
       "        </div>\n",
       "        \n",
       "        <div style=\"margin-bottom: 20px;\">\n",
       "            <div style=\"width: 24px; height: 24px; background-color: #DBF5FF; border: 3px solid #4CC9FF; border-radius: 5px; position: absolute;\"> </div>\n",
       "            <div style=\"margin-left: 48px;\">\n",
       "            <details>\n",
       "                <summary>\n",
       "                    <h4 style=\"margin-bottom: 0px; display: inline;\">Worker: 1</h4>\n",
       "                </summary>\n",
       "                <table style=\"width: 100%; text-align: left;\">\n",
       "                    <tr>\n",
       "                        <td style=\"text-align: left;\">\n",
       "                            <strong>Comm: </strong> tcp://127.0.0.1:46003\n",
       "                        </td>\n",
       "                        <td style=\"text-align: left;\">\n",
       "                            <strong>Total threads: </strong> 1\n",
       "                        </td>\n",
       "                    </tr>\n",
       "                    <tr>\n",
       "                        <td style=\"text-align: left;\">\n",
       "                            <strong>Dashboard: </strong> <a href=\"http://127.0.0.1:38663/status\" target=\"_blank\">http://127.0.0.1:38663/status</a>\n",
       "                        </td>\n",
       "                        <td style=\"text-align: left;\">\n",
       "                            <strong>Memory: </strong> 22.89 GiB\n",
       "                        </td>\n",
       "                    </tr>\n",
       "                    <tr>\n",
       "                        <td style=\"text-align: left;\">\n",
       "                            <strong>Nanny: </strong> tcp://127.0.0.1:36299\n",
       "                        </td>\n",
       "                        <td style=\"text-align: left;\"></td>\n",
       "                    </tr>\n",
       "                    <tr>\n",
       "                        <td colspan=\"2\" style=\"text-align: left;\">\n",
       "                            <strong>Local directory: </strong> /tmp/dask-worker-space/worker-z4yra_lo\n",
       "                        </td>\n",
       "                    </tr>\n",
       "\n",
       "                    \n",
       "                    <tr>\n",
       "                        <td style=\"text-align: left;\">\n",
       "                            <strong>GPU: </strong>Quadro GV100\n",
       "                        </td>\n",
       "                        <td style=\"text-align: left;\">\n",
       "                            <strong>GPU memory: </strong> 32.00 GiB\n",
       "                        </td>\n",
       "                    </tr>\n",
       "                    \n",
       "\n",
       "                    \n",
       "\n",
       "                </table>\n",
       "            </details>\n",
       "            </div>\n",
       "        </div>\n",
       "        \n",
       "\n",
       "    </details>\n",
       "</div>\n",
       "\n",
       "        </details>\n",
       "    </div>\n",
       "</div>\n",
       "            </details>\n",
       "        \n",
       "\n",
       "    </div>\n",
       "</div>"
      ],
      "text/plain": [
       "<Client: 'tcp://127.0.0.1:44629' processes=2 threads=2, memory=45.78 GiB>"
      ]
     },
     "execution_count": 7,
     "metadata": {},
     "output_type": "execute_result"
    }
   ],
   "source": [
    "from dask.distributed import Client\n",
    "from dask_cuda import LocalCUDACluster\n",
    "\n",
    "cluster = LocalCUDACluster()\n",
    "client = Client(cluster)\n",
    "client"
   ]
  },
  {
   "cell_type": "code",
   "execution_count": 8,
   "metadata": {
    "execution": {
     "iopub.execute_input": "2023-02-13T21:55:06.831436Z",
     "iopub.status.busy": "2023-02-13T21:55:06.831140Z",
     "iopub.status.idle": "2023-02-13T21:55:07.549657Z",
     "shell.execute_reply": "2023-02-13T21:55:07.548877Z"
    }
   },
   "outputs": [],
   "source": [
    "from cuml.dask.datasets import make_blobs\n",
    "\n",
    "n_workers = len(client.scheduler_info()[\"workers\"].keys())\n",
    "\n",
    "X, y = make_blobs(n_samples=5000, \n",
    "                  n_features=30,\n",
    "                  centers=5, \n",
    "                  cluster_std=0.4, \n",
    "                  random_state=0,\n",
    "                  n_parts=n_workers*5)\n",
    "\n",
    "X = X.persist()\n",
    "y = y.persist()"
   ]
  },
  {
   "cell_type": "code",
   "execution_count": 9,
   "metadata": {
    "execution": {
     "iopub.execute_input": "2023-02-13T21:55:07.556449Z",
     "iopub.status.busy": "2023-02-13T21:55:07.555786Z",
     "iopub.status.idle": "2023-02-13T21:55:07.562210Z",
     "shell.execute_reply": "2023-02-13T21:55:07.560837Z"
    }
   },
   "outputs": [],
   "source": [
    "from cuml.dask.cluster import KMeans\n",
    "\n",
    "dist_model = KMeans(n_clusters=5)"
   ]
  },
  {
   "cell_type": "code",
   "execution_count": 10,
   "metadata": {
    "execution": {
     "iopub.execute_input": "2023-02-13T21:55:07.567839Z",
     "iopub.status.busy": "2023-02-13T21:55:07.567210Z",
     "iopub.status.idle": "2023-02-13T21:55:14.723603Z",
     "shell.execute_reply": "2023-02-13T21:55:14.721672Z"
    }
   },
   "outputs": [
    {
     "name": "stderr",
     "output_type": "stream",
     "text": [
      "2023-02-13 21:55:14,239 - distributed.worker - WARNING - Compute Failed\n",
      "Key:       _get_model_attr-649cf43c-77be-467c-9b7e-c8563732d6d9\n",
      "Function:  _get_model_attr\n",
      "args:      (KMeansMG(), '_ipython_canary_method_should_not_exist_')\n",
      "kwargs:    {}\n",
      "Exception: 'AttributeError(\"Attribute _ipython_canary_method_should_not_exist_ does not exist on model <class \\'cuml.cluster.kmeans_mg.KMeansMG\\'>\")'\n",
      "\n",
      "2023-02-13 21:55:14,263 - distributed.worker - WARNING - Compute Failed\n",
      "Key:       _get_model_attr-13660f52-f65a-40ac-b865-f6ceec966659\n",
      "Function:  _get_model_attr\n",
      "args:      (KMeansMG(), '_ipython_display_')\n",
      "kwargs:    {}\n",
      "Exception: 'AttributeError(\"Attribute _ipython_display_ does not exist on model <class \\'cuml.cluster.kmeans_mg.KMeansMG\\'>\")'\n",
      "\n",
      "2023-02-13 21:55:14,286 - distributed.worker - WARNING - Compute Failed\n",
      "Key:       _get_model_attr-b1844a53-3b0b-4abc-b809-6f22d89e421a\n",
      "Function:  _get_model_attr\n",
      "args:      (KMeansMG(), '_ipython_canary_method_should_not_exist_')\n",
      "kwargs:    {}\n",
      "Exception: 'AttributeError(\"Attribute _ipython_canary_method_should_not_exist_ does not exist on model <class \\'cuml.cluster.kmeans_mg.KMeansMG\\'>\")'\n",
      "\n",
      "2023-02-13 21:55:14,314 - distributed.worker - WARNING - Compute Failed\n",
      "Key:       _get_model_attr-3fd34219-9271-4d4e-b16d-9b73e733d5c4\n",
      "Function:  _get_model_attr\n",
      "args:      (KMeansMG(), '_repr_mimebundle_')\n",
      "kwargs:    {}\n",
      "Exception: 'AttributeError(\"Attribute _repr_mimebundle_ does not exist on model <class \\'cuml.cluster.kmeans_mg.KMeansMG\\'>\")'\n",
      "\n",
      "2023-02-13 21:55:14,333 - distributed.worker - WARNING - Compute Failed\n",
      "Key:       _get_model_attr-3f12e8dd-6650-4906-bc43-e9182975cedf\n",
      "Function:  _get_model_attr\n",
      "args:      (KMeansMG(), '_ipython_canary_method_should_not_exist_')\n",
      "kwargs:    {}\n",
      "Exception: 'AttributeError(\"Attribute _ipython_canary_method_should_not_exist_ does not exist on model <class \\'cuml.cluster.kmeans_mg.KMeansMG\\'>\")'\n",
      "\n",
      "2023-02-13 21:55:14,346 - distributed.worker - WARNING - Compute Failed\n",
      "Key:       _get_model_attr-06516950-338c-4b58-9815-29380d14347b\n",
      "Function:  _get_model_attr\n",
      "args:      (KMeansMG(), '_repr_html_')\n",
      "kwargs:    {}\n",
      "Exception: 'AttributeError(\"Attribute _repr_html_ does not exist on model <class \\'cuml.cluster.kmeans_mg.KMeansMG\\'>\")'\n",
      "\n",
      "2023-02-13 21:55:14,367 - distributed.worker - WARNING - Compute Failed\n",
      "Key:       _get_model_attr-0d2aa9a7-49ec-48a4-aecf-e8e5ceae3f0b\n",
      "Function:  _get_model_attr\n",
      "args:      (KMeansMG(), '_ipython_canary_method_should_not_exist_')\n",
      "kwargs:    {}\n",
      "Exception: 'AttributeError(\"Attribute _ipython_canary_method_should_not_exist_ does not exist on model <class \\'cuml.cluster.kmeans_mg.KMeansMG\\'>\")'\n",
      "\n",
      "2023-02-13 21:55:14,389 - distributed.worker - WARNING - Compute Failed\n",
      "Key:       _get_model_attr-acd5ce66-389e-491b-b5e0-74a364212798\n",
      "Function:  _get_model_attr\n",
      "args:      (KMeansMG(), '_repr_markdown_')\n",
      "kwargs:    {}\n",
      "Exception: 'AttributeError(\"Attribute _repr_markdown_ does not exist on model <class \\'cuml.cluster.kmeans_mg.KMeansMG\\'>\")'\n",
      "\n",
      "2023-02-13 21:55:14,410 - distributed.worker - WARNING - Compute Failed\n",
      "Key:       _get_model_attr-5b4a806d-7064-40b9-b682-997888623a25\n",
      "Function:  _get_model_attr\n",
      "args:      (KMeansMG(), '_ipython_canary_method_should_not_exist_')\n",
      "kwargs:    {}\n",
      "Exception: 'AttributeError(\"Attribute _ipython_canary_method_should_not_exist_ does not exist on model <class \\'cuml.cluster.kmeans_mg.KMeansMG\\'>\")'\n",
      "\n",
      "2023-02-13 21:55:14,430 - distributed.worker - WARNING - Compute Failed\n",
      "Key:       _get_model_attr-4d74267f-1ca9-4276-a081-933477232dda\n",
      "Function:  _get_model_attr\n",
      "args:      (KMeansMG(), '_repr_svg_')\n",
      "kwargs:    {}\n",
      "Exception: 'AttributeError(\"Attribute _repr_svg_ does not exist on model <class \\'cuml.cluster.kmeans_mg.KMeansMG\\'>\")'\n",
      "\n"
     ]
    },
    {
     "name": "stderr",
     "output_type": "stream",
     "text": [
      "2023-02-13 21:55:14,452 - distributed.worker - WARNING - Compute Failed\n",
      "Key:       _get_model_attr-4ea6abbf-a8da-4409-b82d-2d9f38d29d43\n",
      "Function:  _get_model_attr\n",
      "args:      (KMeansMG(), '_ipython_canary_method_should_not_exist_')\n",
      "kwargs:    {}\n",
      "Exception: 'AttributeError(\"Attribute _ipython_canary_method_should_not_exist_ does not exist on model <class \\'cuml.cluster.kmeans_mg.KMeansMG\\'>\")'\n",
      "\n",
      "2023-02-13 21:55:14,476 - distributed.worker - WARNING - Compute Failed\n",
      "Key:       _get_model_attr-393dd0bf-3391-444d-95ae-1b2795e38e0a\n",
      "Function:  _get_model_attr\n",
      "args:      (KMeansMG(), '_repr_png_')\n",
      "kwargs:    {}\n",
      "Exception: 'AttributeError(\"Attribute _repr_png_ does not exist on model <class \\'cuml.cluster.kmeans_mg.KMeansMG\\'>\")'\n",
      "\n",
      "2023-02-13 21:55:14,501 - distributed.worker - WARNING - Compute Failed\n",
      "Key:       _get_model_attr-deb200a7-c162-4ec2-8e65-c4b154a2fcaa\n",
      "Function:  _get_model_attr\n",
      "args:      (KMeansMG(), '_ipython_canary_method_should_not_exist_')\n",
      "kwargs:    {}\n",
      "Exception: 'AttributeError(\"Attribute _ipython_canary_method_should_not_exist_ does not exist on model <class \\'cuml.cluster.kmeans_mg.KMeansMG\\'>\")'\n",
      "\n",
      "2023-02-13 21:55:14,525 - distributed.worker - WARNING - Compute Failed\n",
      "Key:       _get_model_attr-98a7de4b-19bc-485b-9348-b2f47899fe9d\n",
      "Function:  _get_model_attr\n",
      "args:      (KMeansMG(), '_repr_pdf_')\n",
      "kwargs:    {}\n",
      "Exception: 'AttributeError(\"Attribute _repr_pdf_ does not exist on model <class \\'cuml.cluster.kmeans_mg.KMeansMG\\'>\")'\n",
      "\n",
      "2023-02-13 21:55:14,559 - distributed.worker - WARNING - Compute Failed\n",
      "Key:       _get_model_attr-a7fbac13-9845-4776-8f4d-e885c77886a3\n",
      "Function:  _get_model_attr\n",
      "args:      (KMeansMG(), '_ipython_canary_method_should_not_exist_')\n",
      "kwargs:    {}\n",
      "Exception: 'AttributeError(\"Attribute _ipython_canary_method_should_not_exist_ does not exist on model <class \\'cuml.cluster.kmeans_mg.KMeansMG\\'>\")'\n",
      "\n",
      "2023-02-13 21:55:14,581 - distributed.worker - WARNING - Compute Failed\n",
      "Key:       _get_model_attr-e0169ce2-889a-4c74-a026-134aee13794a\n",
      "Function:  _get_model_attr\n",
      "args:      (KMeansMG(), '_repr_jpeg_')\n",
      "kwargs:    {}\n",
      "Exception: 'AttributeError(\"Attribute _repr_jpeg_ does not exist on model <class \\'cuml.cluster.kmeans_mg.KMeansMG\\'>\")'\n",
      "\n",
      "2023-02-13 21:55:14,607 - distributed.worker - WARNING - Compute Failed\n",
      "Key:       _get_model_attr-1dd39d17-8b18-4a21-9429-571cb914e1af\n",
      "Function:  _get_model_attr\n",
      "args:      (KMeansMG(), '_ipython_canary_method_should_not_exist_')\n",
      "kwargs:    {}\n",
      "Exception: 'AttributeError(\"Attribute _ipython_canary_method_should_not_exist_ does not exist on model <class \\'cuml.cluster.kmeans_mg.KMeansMG\\'>\")'\n",
      "\n",
      "2023-02-13 21:55:14,632 - distributed.worker - WARNING - Compute Failed\n",
      "Key:       _get_model_attr-ccac54c4-4475-4b4f-9f78-6ebe78d76abd\n",
      "Function:  _get_model_attr\n",
      "args:      (KMeansMG(), '_repr_latex_')\n",
      "kwargs:    {}\n",
      "Exception: 'AttributeError(\"Attribute _repr_latex_ does not exist on model <class \\'cuml.cluster.kmeans_mg.KMeansMG\\'>\")'\n",
      "\n",
      "2023-02-13 21:55:14,645 - distributed.worker - WARNING - Compute Failed\n",
      "Key:       _get_model_attr-84af0ba8-e530-4250-a230-0ad9b48eebb2\n",
      "Function:  _get_model_attr\n",
      "args:      (KMeansMG(), '_ipython_canary_method_should_not_exist_')\n",
      "kwargs:    {}\n",
      "Exception: 'AttributeError(\"Attribute _ipython_canary_method_should_not_exist_ does not exist on model <class \\'cuml.cluster.kmeans_mg.KMeansMG\\'>\")'\n",
      "\n"
     ]
    },
    {
     "name": "stderr",
     "output_type": "stream",
     "text": [
      "2023-02-13 21:55:14,666 - distributed.worker - WARNING - Compute Failed\n",
      "Key:       _get_model_attr-d508143e-6948-4b53-8184-644436fe2755\n",
      "Function:  _get_model_attr\n",
      "args:      (KMeansMG(), '_repr_json_')\n",
      "kwargs:    {}\n",
      "Exception: 'AttributeError(\"Attribute _repr_json_ does not exist on model <class \\'cuml.cluster.kmeans_mg.KMeansMG\\'>\")'\n",
      "\n",
      "2023-02-13 21:55:14,689 - distributed.worker - WARNING - Compute Failed\n",
      "Key:       _get_model_attr-e3be56c6-6b89-4d57-82a2-80e813fb9897\n",
      "Function:  _get_model_attr\n",
      "args:      (KMeansMG(), '_ipython_canary_method_should_not_exist_')\n",
      "kwargs:    {}\n",
      "Exception: 'AttributeError(\"Attribute _ipython_canary_method_should_not_exist_ does not exist on model <class \\'cuml.cluster.kmeans_mg.KMeansMG\\'>\")'\n",
      "\n",
      "2023-02-13 21:55:14,710 - distributed.worker - WARNING - Compute Failed\n",
      "Key:       _get_model_attr-123fcc7c-4889-4470-8643-260e2508ae93\n",
      "Function:  _get_model_attr\n",
      "args:      (KMeansMG(), '_repr_javascript_')\n",
      "kwargs:    {}\n",
      "Exception: 'AttributeError(\"Attribute _repr_javascript_ does not exist on model <class \\'cuml.cluster.kmeans_mg.KMeansMG\\'>\")'\n",
      "\n"
     ]
    },
    {
     "data": {
      "text/plain": [
       "<cuml.dask.cluster.kmeans.KMeans at 0x7f29f728bf70>"
      ]
     },
     "execution_count": 10,
     "metadata": {},
     "output_type": "execute_result"
    }
   ],
   "source": [
    "dist_model.fit(X)"
   ]
  },
  {
   "cell_type": "code",
   "execution_count": 11,
   "metadata": {
    "execution": {
     "iopub.execute_input": "2023-02-13T21:55:14.729753Z",
     "iopub.status.busy": "2023-02-13T21:55:14.729076Z",
     "iopub.status.idle": "2023-02-13T21:55:14.753654Z",
     "shell.execute_reply": "2023-02-13T21:55:14.752343Z"
    }
   },
   "outputs": [],
   "source": [
    "import pickle\n",
    "\n",
    "single_gpu_model = dist_model.get_combined_model()\n",
    "pickle.dump(single_gpu_model, open(\"kmeans_model.pkl\", \"wb\"))"
   ]
  },
  {
   "cell_type": "code",
   "execution_count": 12,
   "metadata": {
    "execution": {
     "iopub.execute_input": "2023-02-13T21:55:14.758935Z",
     "iopub.status.busy": "2023-02-13T21:55:14.758382Z",
     "iopub.status.idle": "2023-02-13T21:55:14.766504Z",
     "shell.execute_reply": "2023-02-13T21:55:14.765279Z"
    }
   },
   "outputs": [],
   "source": [
    "single_gpu_model = pickle.load(open(\"kmeans_model.pkl\", \"rb\"))"
   ]
  },
  {
   "cell_type": "code",
   "execution_count": 13,
   "metadata": {
    "execution": {
     "iopub.execute_input": "2023-02-13T21:55:14.772693Z",
     "iopub.status.busy": "2023-02-13T21:55:14.772007Z",
     "iopub.status.idle": "2023-02-13T21:55:14.785970Z",
     "shell.execute_reply": "2023-02-13T21:55:14.784754Z"
    }
   },
   "outputs": [
    {
     "data": {
      "text/plain": [
       "array([[-2.8722036 ,  4.469733  , -4.431363  ,  2.3996627 ,  1.7438413 ,\n",
       "        -2.4938557 , -5.2212667 , -1.7067925 , -8.130272  ,  2.640922  ,\n",
       "        -4.3079324 ,  5.5793056 , -5.741946  , -1.7193329 , -9.359336  ,\n",
       "         0.71624887,  4.4438004 , -2.9173872 , -4.9321446 ,  9.692951  ,\n",
       "         8.393694  , -6.2387223 , -6.3638477 ,  1.963377  ,  4.162585  ,\n",
       "        -9.159683  ,  4.611743  ,  8.80113   ,  6.855182  ,  2.2458148 ],\n",
       "       [ 4.799147  ,  8.402423  , -9.214593  ,  9.392469  ,  8.512868  ,\n",
       "        -1.0980053 ,  3.325824  , -7.8028507 , -0.59902465,  0.25806773,\n",
       "         5.5174656 , -4.113201  ,  4.29229   , -2.841175  ,  3.632732  ,\n",
       "        -4.173102  , -3.6205473 ,  6.2173686 , -6.9105277 , -1.0845208 ,\n",
       "        -5.8539166 ,  2.237582  , -3.8543425 , -1.6783282 , -5.322574  ,\n",
       "         7.5756173 ,  2.9321425 ,  8.521328  ,  1.5875126 ,  1.0917974 ],\n",
       "       [-6.9281077 , -9.766996  , -6.513839  , -0.43525624,  6.100161  ,\n",
       "         3.75331   , -3.9653099 ,  6.1827745 , -1.850568  ,  5.0282636 ,\n",
       "        -6.8437624 ,  1.3515664 ,  8.996505  , -1.0031245 ,  9.674834  ,\n",
       "         9.769709  , -8.616942  ,  5.982677  ,  2.222604  , -3.62812   ,\n",
       "         7.0979934 , -7.3974376 , -5.3140364 , -6.972911  , -7.9171195 ,\n",
       "         6.6703362 , -5.5767236 ,  7.1343412 ,  6.606857  , -8.299493  ],\n",
       "       [-4.6557655 , -9.605046  ,  6.6639013 ,  4.4356027 ,  2.156688  ,\n",
       "         2.5996726 ,  0.6010147 ,  6.262877  , -8.829991  , -0.39445516,\n",
       "         9.801517  ,  7.584996  , 10.004724  , -5.871637  , -1.2833362 ,\n",
       "        -2.5475295 , -1.0870929 , -5.2439094 , -9.321918  ,  4.6081567 ,\n",
       "        -0.10159794, -3.9462256 ,  6.186966  , -7.4019923 ,  5.6567755 ,\n",
       "        -8.548567  , -7.5288215 , -5.5547514 ,  4.8490376 ,  2.530198  ],\n",
       "       [ 6.259898  ,  9.218423  ,  8.374797  ,  9.035377  ,  7.709479  ,\n",
       "        -1.0123166 , -6.256304  ,  1.3844212 , -6.9562516 , -5.965097  ,\n",
       "         1.0701919 , -0.02766198,  2.811689  ,  1.8430994 , -8.250476  ,\n",
       "         3.057016  , -8.495887  ,  9.738968  , -7.748305  ,  3.432191  ,\n",
       "        -3.9439025 , -4.113306  ,  2.6874819 ,  1.2842503 ,  1.019016  ,\n",
       "         5.26193   , -1.6500074 ,  6.161519  , -6.911384  , -9.656554  ]],\n",
       "      dtype=float32)"
      ]
     },
     "execution_count": 13,
     "metadata": {},
     "output_type": "execute_result"
    }
   ],
   "source": [
    "single_gpu_model.cluster_centers_"
   ]
  },
  {
   "cell_type": "markdown",
   "metadata": {},
   "source": [
    "## Exporting cuML Random Forest models for inferencing on machines without GPUs"
   ]
  },
  {
   "cell_type": "markdown",
   "metadata": {},
   "source": [
    "Starting with cuML version 21.06, you can export cuML Random Forest models and run predictions with them on machines without an NVIDIA GPUs. The [Treelite](https://github.com/dmlc/treelite) package defines an efficient exchange format that lets you portably move the cuML Random Forest models to other machines. We will refer to the exchange format as \"checkpoints.\"\n",
    "\n",
    "Here are the steps to export the model:\n",
    "\n",
    "1. Call `to_treelite_checkpoint()` to obtain the checkpoint file from the cuML Random Forest model."
   ]
  },
  {
   "cell_type": "code",
   "execution_count": 14,
   "metadata": {
    "execution": {
     "iopub.execute_input": "2023-02-13T21:55:14.792452Z",
     "iopub.status.busy": "2023-02-13T21:55:14.791575Z",
     "iopub.status.idle": "2023-02-13T21:55:15.029822Z",
     "shell.execute_reply": "2023-02-13T21:55:15.029113Z"
    }
   },
   "outputs": [
    {
     "name": "stderr",
     "output_type": "stream",
     "text": [
      "/opt/conda/envs/rapids/lib/python3.10/site-packages/cuml/internals/api_decorators.py:342: UserWarning: For reproducible results in Random Forest Classifier or for almost reproducible results in Random Forest Regressor, n_streams=1 is recommended. If n_streams is > 1, results may vary due to stream/thread timing differences, even when random_state is set\n",
      "  return func(**kwargs)\n"
     ]
    }
   ],
   "source": [
    "from cuml.ensemble import RandomForestClassifier as cumlRandomForestClassifier\n",
    "from sklearn.datasets import load_iris\n",
    "import numpy as np\n",
    "\n",
    "X, y = load_iris(return_X_y=True)\n",
    "X, y = X.astype(np.float32), y.astype(np.int32)\n",
    "clf = cumlRandomForestClassifier(max_depth=3, random_state=0, n_estimators=10)\n",
    "clf.fit(X, y)\n",
    "\n",
    "checkpoint_path = './checkpoint.tl'\n",
    "# Export cuML RF model as Treelite checkpoint\n",
    "clf.convert_to_treelite_model().to_treelite_checkpoint(checkpoint_path)"
   ]
  },
  {
   "cell_type": "markdown",
   "metadata": {},
   "source": [
    "2. Copy the generated checkpoint file `checkpoint.tl` to another machine on which you'd like to run predictions.\n",
    "\n",
    "3. On the target machine, install Treelite by running `pip install treelite` or `conda install -c conda-forge treelite`. The machine does not need to have an NVIDIA GPUs and does not need to have cuML installed.\n",
    "\n",
    "4. You can now load the model from the checkpoint, by running the following on the target machine:"
   ]
  },
  {
   "cell_type": "code",
   "execution_count": 15,
   "metadata": {
    "execution": {
     "iopub.execute_input": "2023-02-13T21:55:15.035014Z",
     "iopub.status.busy": "2023-02-13T21:55:15.033474Z",
     "iopub.status.idle": "2023-02-13T21:55:15.046108Z",
     "shell.execute_reply": "2023-02-13T21:55:15.045595Z"
    }
   },
   "outputs": [
    {
     "name": "stdout",
     "output_type": "stream",
     "text": [
      "[[1.         0.         0.        ]\n",
      " [1.         0.         0.        ]\n",
      " [1.         0.         0.        ]\n",
      " [1.         0.         0.        ]\n",
      " [1.         0.         0.        ]\n",
      " [1.         0.         0.        ]\n",
      " [1.         0.         0.        ]\n",
      " [1.         0.         0.        ]\n",
      " [1.         0.         0.        ]\n",
      " [1.         0.         0.        ]\n",
      " [1.         0.         0.        ]\n",
      " [1.         0.         0.        ]\n",
      " [1.         0.         0.        ]\n",
      " [1.         0.         0.        ]\n",
      " [1.         0.         0.        ]\n",
      " [1.         0.         0.        ]\n",
      " [1.         0.         0.        ]\n",
      " [1.         0.         0.        ]\n",
      " [1.         0.         0.        ]\n",
      " [1.         0.         0.        ]\n",
      " [1.         0.         0.        ]\n",
      " [1.         0.         0.        ]\n",
      " [1.         0.         0.        ]\n",
      " [1.         0.         0.        ]\n",
      " [1.         0.         0.        ]\n",
      " [1.         0.         0.        ]\n",
      " [1.         0.         0.        ]\n",
      " [1.         0.         0.        ]\n",
      " [1.         0.         0.        ]\n",
      " [1.         0.         0.        ]\n",
      " [1.         0.         0.        ]\n",
      " [1.         0.         0.        ]\n",
      " [1.         0.         0.        ]\n",
      " [1.         0.         0.        ]\n",
      " [1.         0.         0.        ]\n",
      " [1.         0.         0.        ]\n",
      " [1.         0.         0.        ]\n",
      " [1.         0.         0.        ]\n",
      " [1.         0.         0.        ]\n",
      " [1.         0.         0.        ]\n",
      " [1.         0.         0.        ]\n",
      " [1.         0.         0.        ]\n",
      " [1.         0.         0.        ]\n",
      " [1.         0.         0.        ]\n",
      " [1.         0.         0.        ]\n",
      " [1.         0.         0.        ]\n",
      " [1.         0.         0.        ]\n",
      " [1.         0.         0.        ]\n",
      " [1.         0.         0.        ]\n",
      " [1.         0.         0.        ]\n",
      " [0.         0.9941856  0.0058144 ]\n",
      " [0.         0.9941856  0.0058144 ]\n",
      " [0.         0.8317397  0.16826029]\n",
      " [0.         0.9841856  0.0158144 ]\n",
      " [0.         0.9941856  0.0058144 ]\n",
      " [0.         0.9941856  0.0058144 ]\n",
      " [0.         0.9941856  0.0058144 ]\n",
      " [0.         0.9841856  0.0158144 ]\n",
      " [0.         0.9941856  0.0058144 ]\n",
      " [0.         0.9941856  0.0058144 ]\n",
      " [0.         0.9841856  0.0158144 ]\n",
      " [0.         0.9941856  0.0058144 ]\n",
      " [0.         0.9841856  0.0158144 ]\n",
      " [0.         0.9941856  0.0058144 ]\n",
      " [0.         0.9941856  0.0058144 ]\n",
      " [0.         0.9941856  0.0058144 ]\n",
      " [0.         0.9941856  0.0058144 ]\n",
      " [0.         0.9941856  0.0058144 ]\n",
      " [0.         0.9841856  0.0158144 ]\n",
      " [0.         0.9841856  0.0158144 ]\n",
      " [0.         0.16169165 0.83830833]\n",
      " [0.         0.9941856  0.0058144 ]\n",
      " [0.         0.8317397  0.16826029]\n",
      " [0.         0.9941856  0.0058144 ]\n",
      " [0.         0.9941856  0.0058144 ]\n",
      " [0.         0.9941856  0.0058144 ]\n",
      " [0.         0.8317397  0.16826029]\n",
      " [0.         0.5163647  0.48363543]\n",
      " [0.         0.9941856  0.0058144 ]\n",
      " [0.         0.9941856  0.0058144 ]\n",
      " [0.         0.9841856  0.0158144 ]\n",
      " [0.         0.9841856  0.0158144 ]\n",
      " [0.         0.9941856  0.0058144 ]\n",
      " [0.         0.3457792  0.65422076]\n",
      " [0.         0.9941856  0.0058144 ]\n",
      " [0.         0.9941856  0.0058144 ]\n",
      " [0.         0.9941856  0.0058144 ]\n",
      " [0.         0.9841856  0.0158144 ]\n",
      " [0.         0.9941856  0.0058144 ]\n",
      " [0.         0.9841856  0.0158144 ]\n",
      " [0.         0.9941856  0.0058144 ]\n",
      " [0.         0.9941856  0.0058144 ]\n",
      " [0.         0.9941856  0.0058144 ]\n",
      " [0.         0.9841856  0.0158144 ]\n",
      " [0.         0.9941856  0.0058144 ]\n",
      " [0.         0.9941856  0.0058144 ]\n",
      " [0.         0.9941856  0.0058144 ]\n",
      " [0.         0.9941856  0.0058144 ]\n",
      " [0.         0.9841856  0.0158144 ]\n",
      " [0.         0.9941856  0.0058144 ]\n",
      " [0.         0.         1.        ]\n",
      " [0.         0.         1.        ]\n",
      " [0.         0.         1.        ]\n",
      " [0.         0.02447553 0.9755244 ]\n",
      " [0.         0.         1.        ]\n",
      " [0.         0.         1.        ]\n",
      " [0.         0.62521124 0.37478876]\n",
      " [0.         0.02447553 0.9755244 ]\n",
      " [0.         0.02447553 0.9755244 ]\n",
      " [0.         0.         1.        ]\n",
      " [0.         0.         1.        ]\n",
      " [0.         0.         1.        ]\n",
      " [0.         0.         1.        ]\n",
      " [0.         0.04102564 0.95897436]\n",
      " [0.         0.         1.        ]\n",
      " [0.         0.         1.        ]\n",
      " [0.         0.02447553 0.9755244 ]\n",
      " [0.         0.         1.        ]\n",
      " [0.         0.         1.        ]\n",
      " [0.         0.600339   0.399661  ]\n",
      " [0.         0.         1.        ]\n",
      " [0.         0.10388279 0.8961172 ]\n",
      " [0.         0.         1.        ]\n",
      " [0.         0.12835832 0.87164164]\n",
      " [0.         0.         1.        ]\n",
      " [0.         0.02447553 0.9755244 ]\n",
      " [0.         0.16169165 0.83830833]\n",
      " [0.         0.12835832 0.87164164]\n",
      " [0.         0.         1.        ]\n",
      " [0.         0.3457792  0.65422076]\n",
      " [0.         0.         1.        ]\n",
      " [0.         0.         1.        ]\n",
      " [0.         0.         1.        ]\n",
      " [0.         0.3457792  0.65422076]\n",
      " [0.         0.3457792  0.65422076]\n",
      " [0.         0.         1.        ]\n",
      " [0.         0.         1.        ]\n",
      " [0.         0.02447553 0.9755244 ]\n",
      " [0.         0.16169165 0.83830833]\n",
      " [0.         0.         1.        ]\n",
      " [0.         0.         1.        ]\n",
      " [0.         0.         1.        ]\n",
      " [0.         0.         1.        ]\n",
      " [0.         0.         1.        ]\n",
      " [0.         0.         1.        ]\n",
      " [0.         0.         1.        ]\n",
      " [0.         0.04102564 0.95897436]\n",
      " [0.         0.         1.        ]\n",
      " [0.         0.         1.        ]\n",
      " [0.         0.02447553 0.9755244 ]]\n"
     ]
    }
   ],
   "source": [
    "import treelite\n",
    "\n",
    "# The checkpoint file has been copied over\n",
    "checkpoint_path = './checkpoint.tl'\n",
    "tl_model = treelite.Model.deserialize(checkpoint_path)\n",
    "out_prob = treelite.gtil.predict(tl_model, X, pred_margin=True)\n",
    "print(out_prob)"
   ]
  }
 ],
 "metadata": {
  "kernelspec": {
   "display_name": "Python 3.6.9 64-bit",
   "language": "python",
   "name": "python3"
  },
  "language_info": {
   "codemirror_mode": {
    "name": "ipython",
    "version": 3
   },
   "file_extension": ".py",
   "mimetype": "text/x-python",
   "name": "python",
   "nbconvert_exporter": "python",
   "pygments_lexer": "ipython3",
   "version": "3.10.9"
  },
  "vscode": {
   "interpreter": {
    "hash": "31f2aee4e71d21fbe5cf8b01ff0e069b9275f58929596ceb00d14d90e3e16cd6"
   }
  }
 },
 "nbformat": 4,
 "nbformat_minor": 4
}
