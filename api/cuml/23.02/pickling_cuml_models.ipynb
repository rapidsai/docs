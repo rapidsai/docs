{
 "cells": [
  {
   "cell_type": "markdown",
   "metadata": {},
   "source": [
    "# Pickling Models for Persistence\n",
    "\n",
    "This notebook demonstrates simple pickling of both single-GPU and multi-GPU cuML models for persistence"
   ]
  },
  {
   "cell_type": "code",
   "execution_count": 1,
   "metadata": {
    "execution": {
     "iopub.execute_input": "2022-12-21T19:30:18.416091Z",
     "iopub.status.busy": "2022-12-21T19:30:18.415759Z",
     "iopub.status.idle": "2022-12-21T19:30:18.424318Z",
     "shell.execute_reply": "2022-12-21T19:30:18.423638Z"
    }
   },
   "outputs": [],
   "source": [
    "import warnings\n",
    "warnings.filterwarnings(\"ignore\", category=FutureWarning)"
   ]
  },
  {
   "cell_type": "markdown",
   "metadata": {},
   "source": [
    "## Single GPU Model Pickling\n",
    "\n",
    "All single-GPU estimators are pickleable. The following example demonstrates the creation of a synthetic dataset, training, and pickling of the resulting model for storage. Trained single-GPU models can also be used to distribute the inference on a Dask cluster, which the `Distributed Model Pickling` section below demonstrates."
   ]
  },
  {
   "cell_type": "code",
   "execution_count": 2,
   "metadata": {
    "execution": {
     "iopub.execute_input": "2022-12-21T19:30:18.427109Z",
     "iopub.status.busy": "2022-12-21T19:30:18.426808Z",
     "iopub.status.idle": "2022-12-21T19:30:24.096853Z",
     "shell.execute_reply": "2022-12-21T19:30:24.096046Z"
    }
   },
   "outputs": [],
   "source": [
    "from cuml.datasets import make_blobs\n",
    "\n",
    "X, y = make_blobs(n_samples=50,\n",
    "                  n_features=10,\n",
    "                  centers=5,\n",
    "                  cluster_std=0.4,\n",
    "                  random_state=0)"
   ]
  },
  {
   "cell_type": "code",
   "execution_count": 3,
   "metadata": {
    "execution": {
     "iopub.execute_input": "2022-12-21T19:30:24.103546Z",
     "iopub.status.busy": "2022-12-21T19:30:24.103078Z",
     "iopub.status.idle": "2022-12-21T19:30:24.296874Z",
     "shell.execute_reply": "2022-12-21T19:30:24.295848Z"
    }
   },
   "outputs": [
    {
     "data": {
      "text/plain": [
       "KMeans()"
      ]
     },
     "execution_count": 3,
     "metadata": {},
     "output_type": "execute_result"
    }
   ],
   "source": [
    "from cuml.cluster import KMeans\n",
    "\n",
    "model = KMeans(n_clusters=5)\n",
    "\n",
    "model.fit(X)"
   ]
  },
  {
   "cell_type": "code",
   "execution_count": 4,
   "metadata": {
    "execution": {
     "iopub.execute_input": "2022-12-21T19:30:24.302578Z",
     "iopub.status.busy": "2022-12-21T19:30:24.302267Z",
     "iopub.status.idle": "2022-12-21T19:30:24.307386Z",
     "shell.execute_reply": "2022-12-21T19:30:24.306720Z"
    }
   },
   "outputs": [],
   "source": [
    "import pickle\n",
    "\n",
    "pickle.dump(model, open(\"kmeans_model.pkl\", \"wb\"))"
   ]
  },
  {
   "cell_type": "code",
   "execution_count": 5,
   "metadata": {
    "execution": {
     "iopub.execute_input": "2022-12-21T19:30:24.312503Z",
     "iopub.status.busy": "2022-12-21T19:30:24.312042Z",
     "iopub.status.idle": "2022-12-21T19:30:24.318541Z",
     "shell.execute_reply": "2022-12-21T19:30:24.317666Z"
    }
   },
   "outputs": [],
   "source": [
    "model = pickle.load(open(\"kmeans_model.pkl\", \"rb\"))"
   ]
  },
  {
   "cell_type": "code",
   "execution_count": 6,
   "metadata": {
    "execution": {
     "iopub.execute_input": "2022-12-21T19:30:24.323190Z",
     "iopub.status.busy": "2022-12-21T19:30:24.322853Z",
     "iopub.status.idle": "2022-12-21T19:30:24.329114Z",
     "shell.execute_reply": "2022-12-21T19:30:24.328372Z"
    }
   },
   "outputs": [
    {
     "data": {
      "text/plain": [
       "array([[ 4.6749854 ,  8.213466  , -9.075721  ,  9.568374  ,  8.454807  ,\n",
       "        -1.2327975 ,  3.3903713 , -7.8282413 , -0.8454461 ,  0.62885725],\n",
       "       [-3.008261  ,  4.6259604 , -4.4832497 ,  2.228457  ,  1.643532  ,\n",
       "        -2.4505193 , -5.258201  , -1.6679404 , -7.985753  ,  2.8311467 ],\n",
       "       [-4.243999  ,  5.610707  , -5.669777  , -1.7957242 , -9.255529  ,\n",
       "         0.7177438 ,  4.44359   , -2.8747153 , -5.0900965 ,  9.684121  ],\n",
       "       [-5.6072407 ,  2.2695985 , -3.7516537 , -1.8182005 , -5.143028  ,\n",
       "         7.599363  ,  2.8252368 ,  8.773043  ,  1.6198314 ,  1.1772048 ],\n",
       "       [ 5.261548  , -4.0487256 ,  4.464928  , -2.9367518 ,  3.5061095 ,\n",
       "        -4.016832  , -3.463885  ,  6.078449  , -6.953326  , -1.004144  ]],\n",
       "      dtype=float32)"
      ]
     },
     "execution_count": 6,
     "metadata": {},
     "output_type": "execute_result"
    }
   ],
   "source": [
    "model.cluster_centers_"
   ]
  },
  {
   "cell_type": "markdown",
   "metadata": {},
   "source": [
    "## Distributed Model Pickling"
   ]
  },
  {
   "cell_type": "markdown",
   "metadata": {},
   "source": [
    "The distributed estimator wrappers inside of the `cuml.dask` are not intended to be pickled directly. The Dask cuML estimators provide a function `get_combined_model()`, which returns the trained single-GPU model for pickling. The combined model can be used for inference on a single-GPU, and the `ParallelPostFit` wrapper from the [Dask-ML](https://ml.dask.org/meta-estimators.html) library can be used to perform distributed inference on a Dask cluster."
   ]
  },
  {
   "cell_type": "code",
   "execution_count": 7,
   "metadata": {
    "execution": {
     "iopub.execute_input": "2022-12-21T19:30:24.333583Z",
     "iopub.status.busy": "2022-12-21T19:30:24.333353Z",
     "iopub.status.idle": "2022-12-21T19:30:27.219424Z",
     "shell.execute_reply": "2022-12-21T19:30:27.218453Z"
    }
   },
   "outputs": [
    {
     "name": "stderr",
     "output_type": "stream",
     "text": [
      "2022-12-21 19:30:26,770 - distributed.preloading - INFO - Creating preload: dask_cuda.initialize\n",
      "2022-12-21 19:30:26,770 - distributed.preloading - INFO - Import preload module: dask_cuda.initialize\n",
      "2022-12-21 19:30:26,782 - distributed.preloading - INFO - Creating preload: dask_cuda.initialize\n",
      "2022-12-21 19:30:26,782 - distributed.preloading - INFO - Import preload module: dask_cuda.initialize\n"
     ]
    },
    {
     "data": {
      "text/html": [
       "<div>\n",
       "    <div style=\"width: 24px; height: 24px; background-color: #e1e1e1; border: 3px solid #9D9D9D; border-radius: 5px; position: absolute;\"> </div>\n",
       "    <div style=\"margin-left: 48px;\">\n",
       "        <h3 style=\"margin-bottom: 0px;\">Client</h3>\n",
       "        <p style=\"color: #9D9D9D; margin-bottom: 0px;\">Client-ec1fbb5f-8165-11ed-9103-0242ac110004</p>\n",
       "        <table style=\"width: 100%; text-align: left;\">\n",
       "\n",
       "        <tr>\n",
       "        \n",
       "            <td style=\"text-align: left;\"><strong>Connection method:</strong> Cluster object</td>\n",
       "            <td style=\"text-align: left;\"><strong>Cluster type:</strong> dask_cuda.LocalCUDACluster</td>\n",
       "        \n",
       "        </tr>\n",
       "\n",
       "        \n",
       "            <tr>\n",
       "                <td style=\"text-align: left;\">\n",
       "                    <strong>Dashboard: </strong> <a href=\"http://127.0.0.1:8787/status\" target=\"_blank\">http://127.0.0.1:8787/status</a>\n",
       "                </td>\n",
       "                <td style=\"text-align: left;\"></td>\n",
       "            </tr>\n",
       "        \n",
       "\n",
       "        </table>\n",
       "\n",
       "        \n",
       "            <button style=\"margin-bottom: 12px;\" data-commandlinker-command=\"dask:populate-and-launch-layout\" data-commandlinker-args='{\"url\": \"http://127.0.0.1:8787/status\" }'>\n",
       "                Launch dashboard in JupyterLab\n",
       "            </button>\n",
       "        \n",
       "\n",
       "        \n",
       "            <details>\n",
       "            <summary style=\"margin-bottom: 20px;\"><h3 style=\"display: inline;\">Cluster Info</h3></summary>\n",
       "            <div class=\"jp-RenderedHTMLCommon jp-RenderedHTML jp-mod-trusted jp-OutputArea-output\">\n",
       "    <div style=\"width: 24px; height: 24px; background-color: #e1e1e1; border: 3px solid #9D9D9D; border-radius: 5px; position: absolute;\">\n",
       "    </div>\n",
       "    <div style=\"margin-left: 48px;\">\n",
       "        <h3 style=\"margin-bottom: 0px; margin-top: 0px;\">LocalCUDACluster</h3>\n",
       "        <p style=\"color: #9D9D9D; margin-bottom: 0px;\">c2601fcd</p>\n",
       "        <table style=\"width: 100%; text-align: left;\">\n",
       "            <tr>\n",
       "                <td style=\"text-align: left;\">\n",
       "                    <strong>Dashboard:</strong> <a href=\"http://127.0.0.1:8787/status\" target=\"_blank\">http://127.0.0.1:8787/status</a>\n",
       "                </td>\n",
       "                <td style=\"text-align: left;\">\n",
       "                    <strong>Workers:</strong> 2\n",
       "                </td>\n",
       "            </tr>\n",
       "            <tr>\n",
       "                <td style=\"text-align: left;\">\n",
       "                    <strong>Total threads:</strong> 2\n",
       "                </td>\n",
       "                <td style=\"text-align: left;\">\n",
       "                    <strong>Total memory:</strong> 45.78 GiB\n",
       "                </td>\n",
       "            </tr>\n",
       "            \n",
       "            <tr>\n",
       "    <td style=\"text-align: left;\"><strong>Status:</strong> running</td>\n",
       "    <td style=\"text-align: left;\"><strong>Using processes:</strong> True</td>\n",
       "</tr>\n",
       "\n",
       "            \n",
       "        </table>\n",
       "\n",
       "        <details>\n",
       "            <summary style=\"margin-bottom: 20px;\">\n",
       "                <h3 style=\"display: inline;\">Scheduler Info</h3>\n",
       "            </summary>\n",
       "\n",
       "            <div style=\"\">\n",
       "    <div>\n",
       "        <div style=\"width: 24px; height: 24px; background-color: #FFF7E5; border: 3px solid #FF6132; border-radius: 5px; position: absolute;\"> </div>\n",
       "        <div style=\"margin-left: 48px;\">\n",
       "            <h3 style=\"margin-bottom: 0px;\">Scheduler</h3>\n",
       "            <p style=\"color: #9D9D9D; margin-bottom: 0px;\">Scheduler-443520b6-dfc4-400b-983e-02096e392988</p>\n",
       "            <table style=\"width: 100%; text-align: left;\">\n",
       "                <tr>\n",
       "                    <td style=\"text-align: left;\">\n",
       "                        <strong>Comm:</strong> tcp://127.0.0.1:41183\n",
       "                    </td>\n",
       "                    <td style=\"text-align: left;\">\n",
       "                        <strong>Workers:</strong> 2\n",
       "                    </td>\n",
       "                </tr>\n",
       "                <tr>\n",
       "                    <td style=\"text-align: left;\">\n",
       "                        <strong>Dashboard:</strong> <a href=\"http://127.0.0.1:8787/status\" target=\"_blank\">http://127.0.0.1:8787/status</a>\n",
       "                    </td>\n",
       "                    <td style=\"text-align: left;\">\n",
       "                        <strong>Total threads:</strong> 2\n",
       "                    </td>\n",
       "                </tr>\n",
       "                <tr>\n",
       "                    <td style=\"text-align: left;\">\n",
       "                        <strong>Started:</strong> Just now\n",
       "                    </td>\n",
       "                    <td style=\"text-align: left;\">\n",
       "                        <strong>Total memory:</strong> 45.78 GiB\n",
       "                    </td>\n",
       "                </tr>\n",
       "            </table>\n",
       "        </div>\n",
       "    </div>\n",
       "\n",
       "    <details style=\"margin-left: 48px;\">\n",
       "        <summary style=\"margin-bottom: 20px;\">\n",
       "            <h3 style=\"display: inline;\">Workers</h3>\n",
       "        </summary>\n",
       "\n",
       "        \n",
       "        <div style=\"margin-bottom: 20px;\">\n",
       "            <div style=\"width: 24px; height: 24px; background-color: #DBF5FF; border: 3px solid #4CC9FF; border-radius: 5px; position: absolute;\"> </div>\n",
       "            <div style=\"margin-left: 48px;\">\n",
       "            <details>\n",
       "                <summary>\n",
       "                    <h4 style=\"margin-bottom: 0px; display: inline;\">Worker: 0</h4>\n",
       "                </summary>\n",
       "                <table style=\"width: 100%; text-align: left;\">\n",
       "                    <tr>\n",
       "                        <td style=\"text-align: left;\">\n",
       "                            <strong>Comm: </strong> tcp://127.0.0.1:33335\n",
       "                        </td>\n",
       "                        <td style=\"text-align: left;\">\n",
       "                            <strong>Total threads: </strong> 1\n",
       "                        </td>\n",
       "                    </tr>\n",
       "                    <tr>\n",
       "                        <td style=\"text-align: left;\">\n",
       "                            <strong>Dashboard: </strong> <a href=\"http://127.0.0.1:42041/status\" target=\"_blank\">http://127.0.0.1:42041/status</a>\n",
       "                        </td>\n",
       "                        <td style=\"text-align: left;\">\n",
       "                            <strong>Memory: </strong> 22.89 GiB\n",
       "                        </td>\n",
       "                    </tr>\n",
       "                    <tr>\n",
       "                        <td style=\"text-align: left;\">\n",
       "                            <strong>Nanny: </strong> tcp://127.0.0.1:38659\n",
       "                        </td>\n",
       "                        <td style=\"text-align: left;\"></td>\n",
       "                    </tr>\n",
       "                    <tr>\n",
       "                        <td colspan=\"2\" style=\"text-align: left;\">\n",
       "                            <strong>Local directory: </strong> /tmp/dask-worker-space/worker-lbi0z08f\n",
       "                        </td>\n",
       "                    </tr>\n",
       "\n",
       "                    \n",
       "                    <tr>\n",
       "                        <td style=\"text-align: left;\">\n",
       "                            <strong>GPU: </strong>Quadro GV100\n",
       "                        </td>\n",
       "                        <td style=\"text-align: left;\">\n",
       "                            <strong>GPU memory: </strong> 32.00 GiB\n",
       "                        </td>\n",
       "                    </tr>\n",
       "                    \n",
       "\n",
       "                    \n",
       "\n",
       "                </table>\n",
       "            </details>\n",
       "            </div>\n",
       "        </div>\n",
       "        \n",
       "        <div style=\"margin-bottom: 20px;\">\n",
       "            <div style=\"width: 24px; height: 24px; background-color: #DBF5FF; border: 3px solid #4CC9FF; border-radius: 5px; position: absolute;\"> </div>\n",
       "            <div style=\"margin-left: 48px;\">\n",
       "            <details>\n",
       "                <summary>\n",
       "                    <h4 style=\"margin-bottom: 0px; display: inline;\">Worker: 1</h4>\n",
       "                </summary>\n",
       "                <table style=\"width: 100%; text-align: left;\">\n",
       "                    <tr>\n",
       "                        <td style=\"text-align: left;\">\n",
       "                            <strong>Comm: </strong> tcp://127.0.0.1:34939\n",
       "                        </td>\n",
       "                        <td style=\"text-align: left;\">\n",
       "                            <strong>Total threads: </strong> 1\n",
       "                        </td>\n",
       "                    </tr>\n",
       "                    <tr>\n",
       "                        <td style=\"text-align: left;\">\n",
       "                            <strong>Dashboard: </strong> <a href=\"http://127.0.0.1:44677/status\" target=\"_blank\">http://127.0.0.1:44677/status</a>\n",
       "                        </td>\n",
       "                        <td style=\"text-align: left;\">\n",
       "                            <strong>Memory: </strong> 22.89 GiB\n",
       "                        </td>\n",
       "                    </tr>\n",
       "                    <tr>\n",
       "                        <td style=\"text-align: left;\">\n",
       "                            <strong>Nanny: </strong> tcp://127.0.0.1:35571\n",
       "                        </td>\n",
       "                        <td style=\"text-align: left;\"></td>\n",
       "                    </tr>\n",
       "                    <tr>\n",
       "                        <td colspan=\"2\" style=\"text-align: left;\">\n",
       "                            <strong>Local directory: </strong> /tmp/dask-worker-space/worker-z567dshn\n",
       "                        </td>\n",
       "                    </tr>\n",
       "\n",
       "                    \n",
       "                    <tr>\n",
       "                        <td style=\"text-align: left;\">\n",
       "                            <strong>GPU: </strong>Quadro GV100\n",
       "                        </td>\n",
       "                        <td style=\"text-align: left;\">\n",
       "                            <strong>GPU memory: </strong> 32.00 GiB\n",
       "                        </td>\n",
       "                    </tr>\n",
       "                    \n",
       "\n",
       "                    \n",
       "\n",
       "                </table>\n",
       "            </details>\n",
       "            </div>\n",
       "        </div>\n",
       "        \n",
       "\n",
       "    </details>\n",
       "</div>\n",
       "\n",
       "        </details>\n",
       "    </div>\n",
       "</div>\n",
       "            </details>\n",
       "        \n",
       "\n",
       "    </div>\n",
       "</div>"
      ],
      "text/plain": [
       "<Client: 'tcp://127.0.0.1:41183' processes=2 threads=2, memory=45.78 GiB>"
      ]
     },
     "execution_count": 7,
     "metadata": {},
     "output_type": "execute_result"
    }
   ],
   "source": [
    "from dask.distributed import Client\n",
    "from dask_cuda import LocalCUDACluster\n",
    "\n",
    "cluster = LocalCUDACluster()\n",
    "client = Client(cluster)\n",
    "client"
   ]
  },
  {
   "cell_type": "code",
   "execution_count": 8,
   "metadata": {
    "execution": {
     "iopub.execute_input": "2022-12-21T19:30:27.226385Z",
     "iopub.status.busy": "2022-12-21T19:30:27.226017Z",
     "iopub.status.idle": "2022-12-21T19:30:28.000393Z",
     "shell.execute_reply": "2022-12-21T19:30:27.999427Z"
    }
   },
   "outputs": [],
   "source": [
    "from cuml.dask.datasets import make_blobs\n",
    "\n",
    "n_workers = len(client.scheduler_info()[\"workers\"].keys())\n",
    "\n",
    "X, y = make_blobs(n_samples=5000, \n",
    "                  n_features=30,\n",
    "                  centers=5, \n",
    "                  cluster_std=0.4, \n",
    "                  random_state=0,\n",
    "                  n_parts=n_workers*5)\n",
    "\n",
    "X = X.persist()\n",
    "y = y.persist()"
   ]
  },
  {
   "cell_type": "code",
   "execution_count": 9,
   "metadata": {
    "execution": {
     "iopub.execute_input": "2022-12-21T19:30:28.011826Z",
     "iopub.status.busy": "2022-12-21T19:30:28.011356Z",
     "iopub.status.idle": "2022-12-21T19:30:28.021347Z",
     "shell.execute_reply": "2022-12-21T19:30:28.016082Z"
    }
   },
   "outputs": [],
   "source": [
    "from cuml.dask.cluster import KMeans\n",
    "\n",
    "dist_model = KMeans(n_clusters=5)"
   ]
  },
  {
   "cell_type": "code",
   "execution_count": 10,
   "metadata": {
    "execution": {
     "iopub.execute_input": "2022-12-21T19:30:28.025501Z",
     "iopub.status.busy": "2022-12-21T19:30:28.024914Z",
     "iopub.status.idle": "2022-12-21T19:30:34.689761Z",
     "shell.execute_reply": "2022-12-21T19:30:34.689061Z"
    }
   },
   "outputs": [
    {
     "name": "stderr",
     "output_type": "stream",
     "text": [
      "2022-12-21 19:30:34,214 - distributed.worker - WARNING - Compute Failed\n",
      "Key:       _get_model_attr-20bc5cb2-5d28-4130-9e14-384183655dc2\n",
      "Function:  _get_model_attr\n",
      "args:      (KMeansMG(), '_ipython_canary_method_should_not_exist_')\n",
      "kwargs:    {}\n",
      "Exception: 'AttributeError(\"Attribute _ipython_canary_method_should_not_exist_ does not exist on model <class \\'cuml.cluster.kmeans_mg.KMeansMG\\'>\")'\n",
      "\n",
      "2022-12-21 19:30:34,235 - distributed.worker - WARNING - Compute Failed\n",
      "Key:       _get_model_attr-15ef16f1-15e3-45c2-9b6c-44b4705f1ddf\n",
      "Function:  _get_model_attr\n",
      "args:      (KMeansMG(), '_ipython_display_')\n",
      "kwargs:    {}\n",
      "Exception: 'AttributeError(\"Attribute _ipython_display_ does not exist on model <class \\'cuml.cluster.kmeans_mg.KMeansMG\\'>\")'\n",
      "\n",
      "2022-12-21 19:30:34,249 - distributed.worker - WARNING - Compute Failed\n",
      "Key:       _get_model_attr-5b46a30a-e363-41b3-93d7-7ce58b3c45f6\n",
      "Function:  _get_model_attr\n",
      "args:      (KMeansMG(), '_ipython_canary_method_should_not_exist_')\n",
      "kwargs:    {}\n",
      "Exception: 'AttributeError(\"Attribute _ipython_canary_method_should_not_exist_ does not exist on model <class \\'cuml.cluster.kmeans_mg.KMeansMG\\'>\")'\n",
      "\n",
      "2022-12-21 19:30:34,269 - distributed.worker - WARNING - Compute Failed\n",
      "Key:       _get_model_attr-0247c667-9905-4952-8f40-da2fc814dff2\n",
      "Function:  _get_model_attr\n",
      "args:      (KMeansMG(), '_repr_mimebundle_')\n",
      "kwargs:    {}\n",
      "Exception: 'AttributeError(\"Attribute _repr_mimebundle_ does not exist on model <class \\'cuml.cluster.kmeans_mg.KMeansMG\\'>\")'\n",
      "\n",
      "2022-12-21 19:30:34,291 - distributed.worker - WARNING - Compute Failed\n",
      "Key:       _get_model_attr-1461e427-51c5-4507-a82f-18e2d0e34156\n",
      "Function:  _get_model_attr\n",
      "args:      (KMeansMG(), '_ipython_canary_method_should_not_exist_')\n",
      "kwargs:    {}\n",
      "Exception: 'AttributeError(\"Attribute _ipython_canary_method_should_not_exist_ does not exist on model <class \\'cuml.cluster.kmeans_mg.KMeansMG\\'>\")'\n",
      "\n",
      "2022-12-21 19:30:34,310 - distributed.worker - WARNING - Compute Failed\n",
      "Key:       _get_model_attr-65142208-72ab-4769-931a-99c2ad94b122\n",
      "Function:  _get_model_attr\n",
      "args:      (KMeansMG(), '_repr_html_')\n",
      "kwargs:    {}\n",
      "Exception: 'AttributeError(\"Attribute _repr_html_ does not exist on model <class \\'cuml.cluster.kmeans_mg.KMeansMG\\'>\")'\n",
      "\n",
      "2022-12-21 19:30:34,331 - distributed.worker - WARNING - Compute Failed\n",
      "Key:       _get_model_attr-5f8c33f6-9431-4bd8-a157-4c23feba661b\n",
      "Function:  _get_model_attr\n",
      "args:      (KMeansMG(), '_ipython_canary_method_should_not_exist_')\n",
      "kwargs:    {}\n",
      "Exception: 'AttributeError(\"Attribute _ipython_canary_method_should_not_exist_ does not exist on model <class \\'cuml.cluster.kmeans_mg.KMeansMG\\'>\")'\n",
      "\n",
      "2022-12-21 19:30:34,352 - distributed.worker - WARNING - Compute Failed\n",
      "Key:       _get_model_attr-4e784d55-68ef-4cc1-a686-b204361e9b79\n",
      "Function:  _get_model_attr\n",
      "args:      (KMeansMG(), '_repr_markdown_')\n",
      "kwargs:    {}\n",
      "Exception: 'AttributeError(\"Attribute _repr_markdown_ does not exist on model <class \\'cuml.cluster.kmeans_mg.KMeansMG\\'>\")'\n",
      "\n",
      "2022-12-21 19:30:34,367 - distributed.worker - WARNING - Compute Failed\n",
      "Key:       _get_model_attr-c70a9389-2e00-4305-981f-f1a733e7e96d\n",
      "Function:  _get_model_attr\n",
      "args:      (KMeansMG(), '_ipython_canary_method_should_not_exist_')\n",
      "kwargs:    {}\n",
      "Exception: 'AttributeError(\"Attribute _ipython_canary_method_should_not_exist_ does not exist on model <class \\'cuml.cluster.kmeans_mg.KMeansMG\\'>\")'\n",
      "\n",
      "2022-12-21 19:30:34,390 - distributed.worker - WARNING - Compute Failed\n",
      "Key:       _get_model_attr-c57b601d-1e47-48ee-b833-33afae46c0fd\n",
      "Function:  _get_model_attr\n",
      "args:      (KMeansMG(), '_repr_svg_')\n",
      "kwargs:    {}\n",
      "Exception: 'AttributeError(\"Attribute _repr_svg_ does not exist on model <class \\'cuml.cluster.kmeans_mg.KMeansMG\\'>\")'\n",
      "\n"
     ]
    },
    {
     "name": "stderr",
     "output_type": "stream",
     "text": [
      "2022-12-21 19:30:34,416 - distributed.worker - WARNING - Compute Failed\n",
      "Key:       _get_model_attr-182479b3-e42f-4d2c-9676-432d23450f66\n",
      "Function:  _get_model_attr\n",
      "args:      (KMeansMG(), '_ipython_canary_method_should_not_exist_')\n",
      "kwargs:    {}\n",
      "Exception: 'AttributeError(\"Attribute _ipython_canary_method_should_not_exist_ does not exist on model <class \\'cuml.cluster.kmeans_mg.KMeansMG\\'>\")'\n",
      "\n",
      "2022-12-21 19:30:34,437 - distributed.worker - WARNING - Compute Failed\n",
      "Key:       _get_model_attr-41b31914-0dcd-4323-994e-dddd9a5adeb3\n",
      "Function:  _get_model_attr\n",
      "args:      (KMeansMG(), '_repr_png_')\n",
      "kwargs:    {}\n",
      "Exception: 'AttributeError(\"Attribute _repr_png_ does not exist on model <class \\'cuml.cluster.kmeans_mg.KMeansMG\\'>\")'\n",
      "\n",
      "2022-12-21 19:30:34,462 - distributed.worker - WARNING - Compute Failed\n",
      "Key:       _get_model_attr-a00b3324-f8e7-4368-aff4-a89a3d13a1db\n",
      "Function:  _get_model_attr\n",
      "args:      (KMeansMG(), '_ipython_canary_method_should_not_exist_')\n",
      "kwargs:    {}\n",
      "Exception: 'AttributeError(\"Attribute _ipython_canary_method_should_not_exist_ does not exist on model <class \\'cuml.cluster.kmeans_mg.KMeansMG\\'>\")'\n",
      "\n",
      "2022-12-21 19:30:34,491 - distributed.worker - WARNING - Compute Failed\n",
      "Key:       _get_model_attr-d5f8185c-80bb-4d54-b4d0-7f49554808b9\n",
      "Function:  _get_model_attr\n",
      "args:      (KMeansMG(), '_repr_pdf_')\n",
      "kwargs:    {}\n",
      "Exception: 'AttributeError(\"Attribute _repr_pdf_ does not exist on model <class \\'cuml.cluster.kmeans_mg.KMeansMG\\'>\")'\n",
      "\n",
      "2022-12-21 19:30:34,522 - distributed.worker - WARNING - Compute Failed\n",
      "Key:       _get_model_attr-47c3865a-5d72-41b3-a3ac-9931e0f2544b\n",
      "Function:  _get_model_attr\n",
      "args:      (KMeansMG(), '_ipython_canary_method_should_not_exist_')\n",
      "kwargs:    {}\n",
      "Exception: 'AttributeError(\"Attribute _ipython_canary_method_should_not_exist_ does not exist on model <class \\'cuml.cluster.kmeans_mg.KMeansMG\\'>\")'\n",
      "\n",
      "2022-12-21 19:30:34,545 - distributed.worker - WARNING - Compute Failed\n",
      "Key:       _get_model_attr-7fe59d11-a17b-48ea-bfd6-ed2dbe432a44\n",
      "Function:  _get_model_attr\n",
      "args:      (KMeansMG(), '_repr_jpeg_')\n",
      "kwargs:    {}\n",
      "Exception: 'AttributeError(\"Attribute _repr_jpeg_ does not exist on model <class \\'cuml.cluster.kmeans_mg.KMeansMG\\'>\")'\n",
      "\n",
      "2022-12-21 19:30:34,565 - distributed.worker - WARNING - Compute Failed\n",
      "Key:       _get_model_attr-a92e5adf-1622-455e-a36d-979ef225cc1c\n",
      "Function:  _get_model_attr\n",
      "args:      (KMeansMG(), '_ipython_canary_method_should_not_exist_')\n",
      "kwargs:    {}\n",
      "Exception: 'AttributeError(\"Attribute _ipython_canary_method_should_not_exist_ does not exist on model <class \\'cuml.cluster.kmeans_mg.KMeansMG\\'>\")'\n",
      "\n",
      "2022-12-21 19:30:34,592 - distributed.worker - WARNING - Compute Failed\n",
      "Key:       _get_model_attr-b083f2b1-3f6e-4d73-8c55-7040d0a6eac4\n",
      "Function:  _get_model_attr\n",
      "args:      (KMeansMG(), '_repr_latex_')\n",
      "kwargs:    {}\n",
      "Exception: 'AttributeError(\"Attribute _repr_latex_ does not exist on model <class \\'cuml.cluster.kmeans_mg.KMeansMG\\'>\")'\n",
      "\n"
     ]
    },
    {
     "name": "stderr",
     "output_type": "stream",
     "text": [
      "2022-12-21 19:30:34,618 - distributed.worker - WARNING - Compute Failed\n",
      "Key:       _get_model_attr-b48f5896-b15f-42a6-8051-6d84e35afe66\n",
      "Function:  _get_model_attr\n",
      "args:      (KMeansMG(), '_ipython_canary_method_should_not_exist_')\n",
      "kwargs:    {}\n",
      "Exception: 'AttributeError(\"Attribute _ipython_canary_method_should_not_exist_ does not exist on model <class \\'cuml.cluster.kmeans_mg.KMeansMG\\'>\")'\n",
      "\n",
      "2022-12-21 19:30:34,633 - distributed.worker - WARNING - Compute Failed\n",
      "Key:       _get_model_attr-d030ba8e-dee3-491c-bcee-d4cfd03cd2ec\n",
      "Function:  _get_model_attr\n",
      "args:      (KMeansMG(), '_repr_json_')\n",
      "kwargs:    {}\n",
      "Exception: 'AttributeError(\"Attribute _repr_json_ does not exist on model <class \\'cuml.cluster.kmeans_mg.KMeansMG\\'>\")'\n",
      "\n",
      "2022-12-21 19:30:34,656 - distributed.worker - WARNING - Compute Failed\n",
      "Key:       _get_model_attr-edcc393d-32da-4a44-a349-f81b9325fbb0\n",
      "Function:  _get_model_attr\n",
      "args:      (KMeansMG(), '_ipython_canary_method_should_not_exist_')\n",
      "kwargs:    {}\n",
      "Exception: 'AttributeError(\"Attribute _ipython_canary_method_should_not_exist_ does not exist on model <class \\'cuml.cluster.kmeans_mg.KMeansMG\\'>\")'\n",
      "\n",
      "2022-12-21 19:30:34,678 - distributed.worker - WARNING - Compute Failed\n",
      "Key:       _get_model_attr-893ab5ea-9180-4625-81b8-5cce9cc4a91e\n",
      "Function:  _get_model_attr\n",
      "args:      (KMeansMG(), '_repr_javascript_')\n",
      "kwargs:    {}\n",
      "Exception: 'AttributeError(\"Attribute _repr_javascript_ does not exist on model <class \\'cuml.cluster.kmeans_mg.KMeansMG\\'>\")'\n",
      "\n"
     ]
    },
    {
     "data": {
      "text/plain": [
       "<cuml.dask.cluster.kmeans.KMeans at 0x7f7807228a90>"
      ]
     },
     "execution_count": 10,
     "metadata": {},
     "output_type": "execute_result"
    }
   ],
   "source": [
    "dist_model.fit(X)"
   ]
  },
  {
   "cell_type": "code",
   "execution_count": 11,
   "metadata": {
    "execution": {
     "iopub.execute_input": "2022-12-21T19:30:34.696491Z",
     "iopub.status.busy": "2022-12-21T19:30:34.696113Z",
     "iopub.status.idle": "2022-12-21T19:30:34.728480Z",
     "shell.execute_reply": "2022-12-21T19:30:34.727487Z"
    }
   },
   "outputs": [],
   "source": [
    "import pickle\n",
    "\n",
    "single_gpu_model = dist_model.get_combined_model()\n",
    "pickle.dump(single_gpu_model, open(\"kmeans_model.pkl\", \"wb\"))"
   ]
  },
  {
   "cell_type": "code",
   "execution_count": 12,
   "metadata": {
    "execution": {
     "iopub.execute_input": "2022-12-21T19:30:34.734792Z",
     "iopub.status.busy": "2022-12-21T19:30:34.734174Z",
     "iopub.status.idle": "2022-12-21T19:30:34.742887Z",
     "shell.execute_reply": "2022-12-21T19:30:34.741160Z"
    }
   },
   "outputs": [],
   "source": [
    "single_gpu_model = pickle.load(open(\"kmeans_model.pkl\", \"rb\"))"
   ]
  },
  {
   "cell_type": "code",
   "execution_count": 13,
   "metadata": {
    "execution": {
     "iopub.execute_input": "2022-12-21T19:30:34.750747Z",
     "iopub.status.busy": "2022-12-21T19:30:34.749971Z",
     "iopub.status.idle": "2022-12-21T19:30:34.762639Z",
     "shell.execute_reply": "2022-12-21T19:30:34.761635Z"
    }
   },
   "outputs": [
    {
     "data": {
      "text/plain": [
       "array([[-2.8722034 ,  4.4697323 , -4.4313636 ,  2.3996632 ,  1.7438416 ,\n",
       "        -2.4938557 , -5.221266  , -1.7067921 , -8.130272  ,  2.6409216 ,\n",
       "        -4.307932  ,  5.5793056 , -5.741946  , -1.7193329 , -9.359334  ,\n",
       "         0.7162488 ,  4.443801  , -2.9173877 , -4.9321456 ,  9.692949  ,\n",
       "         8.393694  , -6.2387223 , -6.3638473 ,  1.9633775 ,  4.162585  ,\n",
       "        -9.159683  ,  4.611743  ,  8.801129  ,  6.8551826 ,  2.2458153 ],\n",
       "       [ 4.799147  ,  8.402423  , -9.21459   ,  9.392471  ,  8.512868  ,\n",
       "        -1.0980052 ,  3.325824  , -7.8028507 , -0.5990245 ,  0.25806773,\n",
       "         5.5174665 , -4.113201  ,  4.2922897 , -2.8411756 ,  3.6327314 ,\n",
       "        -4.173102  , -3.6205478 ,  6.2173696 , -6.9105296 , -1.0845209 ,\n",
       "        -5.853915  ,  2.237582  , -3.8543427 , -1.6783282 , -5.322575  ,\n",
       "         7.575618  ,  2.9321437 ,  8.521328  ,  1.5875129 ,  1.0917971 ],\n",
       "       [-6.9281073 , -9.766994  , -6.513839  , -0.43525624,  6.100162  ,\n",
       "         3.7533102 , -3.9653103 ,  6.1827755 , -1.850568  ,  5.028263  ,\n",
       "        -6.8437643 ,  1.3515668 ,  8.996504  , -1.0031246 ,  9.674833  ,\n",
       "         9.769712  , -8.616945  ,  5.982676  ,  2.2226048 , -3.6281197 ,\n",
       "         7.0979915 , -7.3974366 , -5.314036  , -6.9729123 , -7.9171205 ,\n",
       "         6.6703362 , -5.5767236 ,  7.1343427 ,  6.606859  , -8.299494  ],\n",
       "       [-4.6557665 , -9.605046  ,  6.6639013 ,  4.435602  ,  2.1566877 ,\n",
       "         2.599673  ,  0.6010148 ,  6.262878  , -8.829993  , -0.3944551 ,\n",
       "         9.801518  ,  7.5849943 , 10.004723  , -5.871636  , -1.2833362 ,\n",
       "        -2.5475292 , -1.0870931 , -5.2439103 , -9.321918  ,  4.6081576 ,\n",
       "        -0.10159794, -3.9462261 ,  6.186966  , -7.401992  ,  5.656775  ,\n",
       "        -8.548569  , -7.5288205 , -5.5547523 ,  4.8490367 ,  2.5301979 ],\n",
       "       [ 6.2598987 ,  9.218424  ,  8.374798  ,  9.035375  ,  7.7094774 ,\n",
       "        -1.0123167 , -6.256305  ,  1.3844212 , -6.9562526 , -5.9650974 ,\n",
       "         1.0701919 , -0.02766198,  2.8116884 ,  1.8430994 , -8.250474  ,\n",
       "         3.057016  , -8.495887  ,  9.738966  , -7.748305  ,  3.4321914 ,\n",
       "        -3.943902  , -4.113307  ,  2.6874824 ,  1.2842505 ,  1.019016  ,\n",
       "         5.261929  , -1.6500074 ,  6.161519  , -6.911384  , -9.656554  ]],\n",
       "      dtype=float32)"
      ]
     },
     "execution_count": 13,
     "metadata": {},
     "output_type": "execute_result"
    }
   ],
   "source": [
    "single_gpu_model.cluster_centers_"
   ]
  },
  {
   "cell_type": "markdown",
   "metadata": {},
   "source": [
    "## Exporting cuML Random Forest models for inferencing on machines without GPUs"
   ]
  },
  {
   "cell_type": "markdown",
   "metadata": {},
   "source": [
    "Starting with cuML version 21.06, you can export cuML Random Forest models and run predictions with them on machines without an NVIDIA GPUs. The [Treelite](https://github.com/dmlc/treelite) package defines an efficient exchange format that lets you portably move the cuML Random Forest models to other machines. We will refer to the exchange format as \"checkpoints.\"\n",
    "\n",
    "Here are the steps to export the model:\n",
    "\n",
    "1. Call `to_treelite_checkpoint()` to obtain the checkpoint file from the cuML Random Forest model."
   ]
  },
  {
   "cell_type": "code",
   "execution_count": 14,
   "metadata": {
    "execution": {
     "iopub.execute_input": "2022-12-21T19:30:34.766451Z",
     "iopub.status.busy": "2022-12-21T19:30:34.765685Z",
     "iopub.status.idle": "2022-12-21T19:30:34.924721Z",
     "shell.execute_reply": "2022-12-21T19:30:34.924157Z"
    }
   },
   "outputs": [
    {
     "name": "stderr",
     "output_type": "stream",
     "text": [
      "/opt/conda/envs/rapids/lib/python3.9/site-packages/cuml/internals/api_decorators.py:771: UserWarning: For reproducible results in Random Forest Classifier or for almost reproducible results in Random Forest Regressor, n_streams=1 is recommended. If n_streams is > 1, results may vary due to stream/thread timing differences, even when random_state is set\n",
      "  return func(**kwargs)\n"
     ]
    }
   ],
   "source": [
    "from cuml.ensemble import RandomForestClassifier as cumlRandomForestClassifier\n",
    "from sklearn.datasets import load_iris\n",
    "import numpy as np\n",
    "\n",
    "X, y = load_iris(return_X_y=True)\n",
    "X, y = X.astype(np.float32), y.astype(np.int32)\n",
    "clf = cumlRandomForestClassifier(max_depth=3, random_state=0, n_estimators=10)\n",
    "clf.fit(X, y)\n",
    "\n",
    "checkpoint_path = './checkpoint.tl'\n",
    "# Export cuML RF model as Treelite checkpoint\n",
    "clf.convert_to_treelite_model().to_treelite_checkpoint(checkpoint_path)"
   ]
  },
  {
   "cell_type": "markdown",
   "metadata": {},
   "source": [
    "2. Copy the generated checkpoint file `checkpoint.tl` to another machine on which you'd like to run predictions.\n",
    "\n",
    "3. On the target machine, install Treelite by running `pip install treelite` or `conda install -c conda-forge treelite`. The machine does not need to have an NVIDIA GPUs and does not need to have cuML installed.\n",
    "\n",
    "4. You can now load the model from the checkpoint, by running the following on the target machine:"
   ]
  },
  {
   "cell_type": "code",
   "execution_count": 15,
   "metadata": {
    "execution": {
     "iopub.execute_input": "2022-12-21T19:30:34.928669Z",
     "iopub.status.busy": "2022-12-21T19:30:34.928296Z",
     "iopub.status.idle": "2022-12-21T19:30:34.972862Z",
     "shell.execute_reply": "2022-12-21T19:30:34.972104Z"
    }
   },
   "outputs": [
    {
     "name": "stdout",
     "output_type": "stream",
     "text": [
      "[[1.         0.         0.        ]\n",
      " [1.         0.         0.        ]\n",
      " [1.         0.         0.        ]\n",
      " [1.         0.         0.        ]\n",
      " [1.         0.         0.        ]\n",
      " [1.         0.         0.        ]\n",
      " [1.         0.         0.        ]\n",
      " [1.         0.         0.        ]\n",
      " [1.         0.         0.        ]\n",
      " [1.         0.         0.        ]\n",
      " [1.         0.         0.        ]\n",
      " [1.         0.         0.        ]\n",
      " [1.         0.         0.        ]\n",
      " [1.         0.         0.        ]\n",
      " [1.         0.         0.        ]\n",
      " [1.         0.         0.        ]\n",
      " [1.         0.         0.        ]\n",
      " [1.         0.         0.        ]\n",
      " [1.         0.         0.        ]\n",
      " [1.         0.         0.        ]\n",
      " [1.         0.         0.        ]\n",
      " [1.         0.         0.        ]\n",
      " [1.         0.         0.        ]\n",
      " [1.         0.         0.        ]\n",
      " [1.         0.         0.        ]\n",
      " [1.         0.         0.        ]\n",
      " [1.         0.         0.        ]\n",
      " [1.         0.         0.        ]\n",
      " [1.         0.         0.        ]\n",
      " [1.         0.         0.        ]\n",
      " [1.         0.         0.        ]\n",
      " [1.         0.         0.        ]\n",
      " [1.         0.         0.        ]\n",
      " [1.         0.         0.        ]\n",
      " [1.         0.         0.        ]\n",
      " [1.         0.         0.        ]\n",
      " [1.         0.         0.        ]\n",
      " [1.         0.         0.        ]\n",
      " [1.         0.         0.        ]\n",
      " [1.         0.         0.        ]\n",
      " [1.         0.         0.        ]\n",
      " [1.         0.         0.        ]\n",
      " [1.         0.         0.        ]\n",
      " [1.         0.         0.        ]\n",
      " [1.         0.         0.        ]\n",
      " [1.         0.         0.        ]\n",
      " [1.         0.         0.        ]\n",
      " [1.         0.         0.        ]\n",
      " [1.         0.         0.        ]\n",
      " [1.         0.         0.        ]\n",
      " [0.         0.9941856  0.0058144 ]\n",
      " [0.         0.9941856  0.0058144 ]\n",
      " [0.         0.8317397  0.16826029]\n",
      " [0.         0.9841856  0.0158144 ]\n",
      " [0.         0.9941856  0.0058144 ]\n",
      " [0.         0.9941856  0.0058144 ]\n",
      " [0.         0.9941856  0.0058144 ]\n",
      " [0.         0.9841856  0.0158144 ]\n",
      " [0.         0.9941856  0.0058144 ]\n",
      " [0.         0.9941856  0.0058144 ]\n",
      " [0.         0.9841856  0.0158144 ]\n",
      " [0.         0.9941856  0.0058144 ]\n",
      " [0.         0.9841856  0.0158144 ]\n",
      " [0.         0.9941856  0.0058144 ]\n",
      " [0.         0.9941856  0.0058144 ]\n",
      " [0.         0.9941856  0.0058144 ]\n",
      " [0.         0.9941856  0.0058144 ]\n",
      " [0.         0.9941856  0.0058144 ]\n",
      " [0.         0.9841856  0.0158144 ]\n",
      " [0.         0.9841856  0.0158144 ]\n",
      " [0.         0.16169165 0.83830833]\n",
      " [0.         0.9941856  0.0058144 ]\n",
      " [0.         0.8317397  0.16826029]\n",
      " [0.         0.9941856  0.0058144 ]\n",
      " [0.         0.9941856  0.0058144 ]\n",
      " [0.         0.9941856  0.0058144 ]\n",
      " [0.         0.8317397  0.16826029]\n",
      " [0.         0.5163647  0.48363543]\n",
      " [0.         0.9941856  0.0058144 ]\n",
      " [0.         0.9941856  0.0058144 ]\n",
      " [0.         0.9841856  0.0158144 ]\n",
      " [0.         0.9841856  0.0158144 ]\n",
      " [0.         0.9941856  0.0058144 ]\n",
      " [0.         0.3457792  0.65422076]\n",
      " [0.         0.9941856  0.0058144 ]\n",
      " [0.         0.9941856  0.0058144 ]\n",
      " [0.         0.9941856  0.0058144 ]\n",
      " [0.         0.9841856  0.0158144 ]\n",
      " [0.         0.9941856  0.0058144 ]\n",
      " [0.         0.9841856  0.0158144 ]\n",
      " [0.         0.9941856  0.0058144 ]\n",
      " [0.         0.9941856  0.0058144 ]\n",
      " [0.         0.9941856  0.0058144 ]\n",
      " [0.         0.9841856  0.0158144 ]\n",
      " [0.         0.9941856  0.0058144 ]\n",
      " [0.         0.9941856  0.0058144 ]\n",
      " [0.         0.9941856  0.0058144 ]\n",
      " [0.         0.9941856  0.0058144 ]\n",
      " [0.         0.9841856  0.0158144 ]\n",
      " [0.         0.9941856  0.0058144 ]\n",
      " [0.         0.         1.        ]\n",
      " [0.         0.         1.        ]\n",
      " [0.         0.         1.        ]\n",
      " [0.         0.02447553 0.9755244 ]\n",
      " [0.         0.         1.        ]\n",
      " [0.         0.         1.        ]\n",
      " [0.         0.62521124 0.37478876]\n",
      " [0.         0.02447553 0.9755244 ]\n",
      " [0.         0.02447553 0.9755244 ]\n",
      " [0.         0.         1.        ]\n",
      " [0.         0.         1.        ]\n",
      " [0.         0.         1.        ]\n",
      " [0.         0.         1.        ]\n",
      " [0.         0.04102564 0.95897436]\n",
      " [0.         0.         1.        ]\n",
      " [0.         0.         1.        ]\n",
      " [0.         0.02447553 0.9755244 ]\n",
      " [0.         0.         1.        ]\n",
      " [0.         0.         1.        ]\n",
      " [0.         0.600339   0.399661  ]\n",
      " [0.         0.         1.        ]\n",
      " [0.         0.10388279 0.8961172 ]\n",
      " [0.         0.         1.        ]\n",
      " [0.         0.12835832 0.87164164]\n",
      " [0.         0.         1.        ]\n",
      " [0.         0.02447553 0.9755244 ]\n",
      " [0.         0.16169165 0.83830833]\n",
      " [0.         0.12835832 0.87164164]\n",
      " [0.         0.         1.        ]\n",
      " [0.         0.3457792  0.65422076]\n",
      " [0.         0.         1.        ]\n",
      " [0.         0.         1.        ]\n",
      " [0.         0.         1.        ]\n",
      " [0.         0.3457792  0.65422076]\n",
      " [0.         0.3457792  0.65422076]\n",
      " [0.         0.         1.        ]\n",
      " [0.         0.         1.        ]\n",
      " [0.         0.02447553 0.9755244 ]\n",
      " [0.         0.16169165 0.83830833]\n",
      " [0.         0.         1.        ]\n",
      " [0.         0.         1.        ]\n",
      " [0.         0.         1.        ]\n",
      " [0.         0.         1.        ]\n",
      " [0.         0.         1.        ]\n",
      " [0.         0.         1.        ]\n",
      " [0.         0.         1.        ]\n",
      " [0.         0.04102564 0.95897436]\n",
      " [0.         0.         1.        ]\n",
      " [0.         0.         1.        ]\n",
      " [0.         0.02447553 0.9755244 ]]\n"
     ]
    }
   ],
   "source": [
    "import treelite\n",
    "\n",
    "# The checkpoint file has been copied over\n",
    "checkpoint_path = './checkpoint.tl'\n",
    "tl_model = treelite.Model.deserialize(checkpoint_path)\n",
    "out_prob = treelite.gtil.predict(tl_model, X, pred_margin=True)\n",
    "print(out_prob)"
   ]
  }
 ],
 "metadata": {
  "kernelspec": {
   "display_name": "Python 3.6.9 64-bit",
   "language": "python",
   "name": "python3"
  },
  "language_info": {
   "codemirror_mode": {
    "name": "ipython",
    "version": 3
   },
   "file_extension": ".py",
   "mimetype": "text/x-python",
   "name": "python",
   "nbconvert_exporter": "python",
   "pygments_lexer": "ipython3",
   "version": "3.9.15"
  },
  "vscode": {
   "interpreter": {
    "hash": "31f2aee4e71d21fbe5cf8b01ff0e069b9275f58929596ceb00d14d90e3e16cd6"
   }
  }
 },
 "nbformat": 4,
 "nbformat_minor": 4
}
