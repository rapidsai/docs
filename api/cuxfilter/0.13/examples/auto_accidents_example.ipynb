version https://git-lfs.github.com/spec/v1
oid sha256:2ab5c5c72acfc41c11c3024f943727dbc94cc534807a3e945c3cbe7f92cce08e
size 20990115
