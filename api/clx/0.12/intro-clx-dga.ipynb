{
 "cells": [
  {
   "cell_type": "markdown",
   "metadata": {},
   "source": [
    "# CLX DGA Detection\n",
    "\n",
    "This is an introduction to CLX DGA Detection."
   ]
  },
  {
   "cell_type": "markdown",
   "metadata": {},
   "source": [
    "## What is DGA Detection?\n",
    "\n",
    "[Domain Generation Algorithms](https://en.wikipedia.org/wiki/Domain_generation_algorithm) (DGAs) are used to generate domain names that can be used by the malware to communicate with the command and control servers. IP addresses and static domain names can be easily blocked, and a DGA provides an easy method to generate a large number of domain names and rotate through them to circumvent traditional block lists."
   ]
  },
  {
   "cell_type": "markdown",
   "metadata": {},
   "source": [
    "## When to use CLX DGA Detection?\n",
    "\n",
    "Use CLX DGA Detection to build your own DGA Detection model that can then be used to predict whether a given domain is malicious or not. We will use a type of recurrent neural network called the Gated Recurrent Unit (GRU) for this example. The [CLX](https://github.com/rapidsai/clx) and [RAPIDS](https://rapids.ai/) libraries enable users train their models with up-to-date domain names representative of both benign and DGA generated strings. Using a [CLX workflow](./intro-clx-workflow.html), this capability could also be used in production environments.  \n",
    "  \n",
    "**For a more advanced, in-depth example of CLX DGA Detection view this Jupyter** [notebook](https://github.com/rapidsai/clx/blob/master/notebooks/dga_detection/DGA_Detection.ipynb)."
   ]
  },
  {
   "cell_type": "markdown",
   "metadata": {},
   "source": [
    "## How to train a CLX DGA Detection model\n",
    "\n",
    "To train a CLX DGA Detection model you simply need a training data set which contains a column of domains and their associated `type` which can be either `1` (benign) or `0` (malicious)."
   ]
  },
  {
   "cell_type": "markdown",
   "metadata": {},
   "source": [
    "First initialize your new model"
   ]
  },
  {
   "cell_type": "code",
   "execution_count": 2,
   "metadata": {},
   "outputs": [],
   "source": [
    "LR = 0.001\n",
    "N_LAYERS = 3\n",
    "CHAR_VOCAB = 128\n",
    "HIDDEN_SIZE = 100\n",
    "N_DOMAIN_TYPE = 2 # Will be 2 since there are a total of 2 different types\n",
    "\n",
    "from clx.analytics.dga_detector import DGADetector\n",
    "dd = DGADetector(lr=LR)\n",
    "dd.init_model(n_layers=N_LAYERS, char_vocab=CHAR_VOCAB, hidden_size=HIDDEN_SIZE, n_domain_type=N_DOMAIN_TYPE)"
   ]
  },
  {
   "cell_type": "markdown",
   "metadata": {},
   "source": [
    "Next, train your DGA detector. The below example uses a small dataset for demonstration only. Ideally you will want a larger training set."
   ]
  },
  {
   "cell_type": "markdown",
   "metadata": {},
   "source": [
    "To develop a more expansive training set, these resources are available:\n",
    "  \n",
    "* DGA : http://osint.bambenekconsulting.com/feeds/dga-feed.txt\n",
    "* Benign : http://s3.amazonaws.com/alexa-static/top-1m.csv.zip"
   ]
  },
  {
   "cell_type": "code",
   "execution_count": 3,
   "metadata": {},
   "outputs": [
    {
     "data": {
      "text/html": [
       "<div>\n",
       "<style scoped>\n",
       "    .dataframe tbody tr th:only-of-type {\n",
       "        vertical-align: middle;\n",
       "    }\n",
       "\n",
       "    .dataframe tbody tr th {\n",
       "        vertical-align: top;\n",
       "    }\n",
       "\n",
       "    .dataframe thead th {\n",
       "        text-align: right;\n",
       "    }\n",
       "</style>\n",
       "<table border=\"1\" class=\"dataframe\">\n",
       "  <thead>\n",
       "    <tr style=\"text-align: right;\">\n",
       "      <th></th>\n",
       "      <th>0</th>\n",
       "      <th>1</th>\n",
       "      <th>2</th>\n",
       "      <th>3</th>\n",
       "      <th>4</th>\n",
       "      <th>5</th>\n",
       "      <th>6</th>\n",
       "      <th>7</th>\n",
       "      <th>8</th>\n",
       "      <th>9</th>\n",
       "      <th>...</th>\n",
       "      <th>12</th>\n",
       "      <th>13</th>\n",
       "      <th>14</th>\n",
       "      <th>15</th>\n",
       "      <th>16</th>\n",
       "      <th>17</th>\n",
       "      <th>18</th>\n",
       "      <th>len</th>\n",
       "      <th>type</th>\n",
       "      <th>domain</th>\n",
       "    </tr>\n",
       "  </thead>\n",
       "  <tbody>\n",
       "    <tr>\n",
       "      <th>3</th>\n",
       "      <td>119</td>\n",
       "      <td>101</td>\n",
       "      <td>106</td>\n",
       "      <td>97</td>\n",
       "      <td>101</td>\n",
       "      <td>99</td>\n",
       "      <td>106</td>\n",
       "      <td>104</td>\n",
       "      <td>121</td>\n",
       "      <td>99</td>\n",
       "      <td>...</td>\n",
       "      <td>115</td>\n",
       "      <td>46</td>\n",
       "      <td>99</td>\n",
       "      <td>111</td>\n",
       "      <td>46</td>\n",
       "      <td>117</td>\n",
       "      <td>107</td>\n",
       "      <td>19</td>\n",
       "      <td>0</td>\n",
       "      <td>wejaecjhycwss.co.uk</td>\n",
       "    </tr>\n",
       "    <tr>\n",
       "      <th>4</th>\n",
       "      <td>120</td>\n",
       "      <td>116</td>\n",
       "      <td>111</td>\n",
       "      <td>114</td>\n",
       "      <td>104</td>\n",
       "      <td>107</td>\n",
       "      <td>116</td>\n",
       "      <td>118</td>\n",
       "      <td>112</td>\n",
       "      <td>98</td>\n",
       "      <td>...</td>\n",
       "      <td>114</td>\n",
       "      <td>46</td>\n",
       "      <td>105</td>\n",
       "      <td>110</td>\n",
       "      <td>102</td>\n",
       "      <td>111</td>\n",
       "      <td>0</td>\n",
       "      <td>18</td>\n",
       "      <td>0</td>\n",
       "      <td>xtorhktvpblmr.info</td>\n",
       "    </tr>\n",
       "    <tr>\n",
       "      <th>5</th>\n",
       "      <td>120</td>\n",
       "      <td>118</td>\n",
       "      <td>108</td>\n",
       "      <td>106</td>\n",
       "      <td>105</td>\n",
       "      <td>115</td>\n",
       "      <td>98</td>\n",
       "      <td>102</td>\n",
       "      <td>97</td>\n",
       "      <td>108</td>\n",
       "      <td>...</td>\n",
       "      <td>115</td>\n",
       "      <td>46</td>\n",
       "      <td>99</td>\n",
       "      <td>111</td>\n",
       "      <td>109</td>\n",
       "      <td>0</td>\n",
       "      <td>0</td>\n",
       "      <td>17</td>\n",
       "      <td>0</td>\n",
       "      <td>xvljisbfalkts.com</td>\n",
       "    </tr>\n",
       "    <tr>\n",
       "      <th>1</th>\n",
       "      <td>108</td>\n",
       "      <td>105</td>\n",
       "      <td>110</td>\n",
       "      <td>107</td>\n",
       "      <td>101</td>\n",
       "      <td>100</td>\n",
       "      <td>105</td>\n",
       "      <td>110</td>\n",
       "      <td>46</td>\n",
       "      <td>99</td>\n",
       "      <td>...</td>\n",
       "      <td>0</td>\n",
       "      <td>0</td>\n",
       "      <td>0</td>\n",
       "      <td>0</td>\n",
       "      <td>0</td>\n",
       "      <td>0</td>\n",
       "      <td>0</td>\n",
       "      <td>12</td>\n",
       "      <td>1</td>\n",
       "      <td>linkedin.com</td>\n",
       "    </tr>\n",
       "    <tr>\n",
       "      <th>2</th>\n",
       "      <td>116</td>\n",
       "      <td>119</td>\n",
       "      <td>105</td>\n",
       "      <td>116</td>\n",
       "      <td>116</td>\n",
       "      <td>101</td>\n",
       "      <td>114</td>\n",
       "      <td>46</td>\n",
       "      <td>99</td>\n",
       "      <td>111</td>\n",
       "      <td>...</td>\n",
       "      <td>0</td>\n",
       "      <td>0</td>\n",
       "      <td>0</td>\n",
       "      <td>0</td>\n",
       "      <td>0</td>\n",
       "      <td>0</td>\n",
       "      <td>0</td>\n",
       "      <td>11</td>\n",
       "      <td>1</td>\n",
       "      <td>twitter.com</td>\n",
       "    </tr>\n",
       "    <tr>\n",
       "      <th>0</th>\n",
       "      <td>121</td>\n",
       "      <td>97</td>\n",
       "      <td>104</td>\n",
       "      <td>111</td>\n",
       "      <td>111</td>\n",
       "      <td>46</td>\n",
       "      <td>99</td>\n",
       "      <td>111</td>\n",
       "      <td>109</td>\n",
       "      <td>0</td>\n",
       "      <td>...</td>\n",
       "      <td>0</td>\n",
       "      <td>0</td>\n",
       "      <td>0</td>\n",
       "      <td>0</td>\n",
       "      <td>0</td>\n",
       "      <td>0</td>\n",
       "      <td>0</td>\n",
       "      <td>9</td>\n",
       "      <td>1</td>\n",
       "      <td>yahoo.com</td>\n",
       "    </tr>\n",
       "  </tbody>\n",
       "</table>\n",
       "<p>6 rows × 22 columns</p>\n",
       "</div>"
      ],
      "text/plain": [
       "     0    1    2    3    4    5    6    7    8    9  ...   12  13   14   15  \\\n",
       "3  119  101  106   97  101   99  106  104  121   99  ...  115  46   99  111   \n",
       "4  120  116  111  114  104  107  116  118  112   98  ...  114  46  105  110   \n",
       "5  120  118  108  106  105  115   98  102   97  108  ...  115  46   99  111   \n",
       "1  108  105  110  107  101  100  105  110   46   99  ...    0   0    0    0   \n",
       "2  116  119  105  116  116  101  114   46   99  111  ...    0   0    0    0   \n",
       "0  121   97  104  111  111   46   99  111  109    0  ...    0   0    0    0   \n",
       "\n",
       "    16   17   18  len  type               domain  \n",
       "3   46  117  107   19     0  wejaecjhycwss.co.uk  \n",
       "4  102  111    0   18     0   xtorhktvpblmr.info  \n",
       "5  109    0    0   17     0    xvljisbfalkts.com  \n",
       "1    0    0    0   12     1         linkedin.com  \n",
       "2    0    0    0   11     1          twitter.com  \n",
       "0    0    0    0    9     1            yahoo.com  \n",
       "\n",
       "[6 rows x 22 columns]"
      ]
     },
     "execution_count": 3,
     "metadata": {},
     "output_type": "execute_result"
    }
   ],
   "source": [
    "import cudf\n",
    "\n",
    "train_df1 = cudf.DataFrame()\n",
    "train_df1['domain'] = ['google.com', 'youtube.com', 'tmall.com', 'duiwlqeejymdb.com', 'kofsmyaiufarb.net', 'xskphhmrlcihr.biz']\n",
    "train_df1['type'] = [1,1,1,0,0,0]\n",
    "\n",
    "train_df2 = cudf.DataFrame()\n",
    "train_df2['domain'] = ['yahoo.com', 'linkedin.com', 'twitter.com', 'wejaecjhycwss.co.uk', 'xtorhktvpblmr.info', 'xvljisbfalkts.com']\n",
    "train_df2['type'] = [1,1,1,0,0,0]\n",
    "\n",
    "# Convert domains from string to ascii\n",
    "train_df1_ascii = dd.str2ascii(train_df2, 6)\n",
    "train_df2_ascii = dd.str2ascii(train_df2, 6)\n",
    "train_df2_ascii"
   ]
  },
  {
   "cell_type": "markdown",
   "metadata": {},
   "source": [
    "When we train a model, the total loss is returned"
   ]
  },
  {
   "cell_type": "code",
   "execution_count": 6,
   "metadata": {},
   "outputs": [
    {
     "data": {
      "text/plain": [
       "0.005933642387390137"
      ]
     },
     "execution_count": 6,
     "metadata": {},
     "output_type": "execute_result"
    }
   ],
   "source": [
    "total_num_of_domains = train_df1['domain'].count() + train_df2['domain'].count()\n",
    "dd.train_model([train_df1_ascii, train_df2_ascii], total_num_of_domains)"
   ]
  },
  {
   "cell_type": "markdown",
   "metadata": {},
   "source": [
    "Ideally, you will want to train your model over a number of `epochs` as detailed in our example DGA Detection [notebook](https://github.com/rapidsai/clx/blob/master/notebooks/dga_detection/DGA_Detection.ipynb)."
   ]
  },
  {
   "cell_type": "markdown",
   "metadata": {},
   "source": [
    "## Save a trained model"
   ]
  },
  {
   "cell_type": "code",
   "execution_count": 7,
   "metadata": {},
   "outputs": [],
   "source": [
    "dd.save_model(\"clx_dga_classifier.pth\")"
   ]
  },
  {
   "cell_type": "markdown",
   "metadata": {},
   "source": [
    "## Load a model\n",
    "\n",
    "Let's create a new dga detector and load the saved model from above."
   ]
  },
  {
   "cell_type": "code",
   "execution_count": 8,
   "metadata": {},
   "outputs": [],
   "source": [
    "dga_detector = DGADetector(lr=0.001)\n",
    "dga_detector.load_model(\"clx_dga_classifier.pth\")"
   ]
  },
  {
   "cell_type": "markdown",
   "metadata": {},
   "source": [
    "## DGA Inferencing\n",
    "\n",
    "Use your new model to predict malicious domains"
   ]
  },
  {
   "cell_type": "code",
   "execution_count": 10,
   "metadata": {},
   "outputs": [
    {
     "data": {
      "text/plain": [
       "0    1\n",
       "1    0\n",
       "Name: is_dga, dtype: int64"
      ]
     },
     "execution_count": 10,
     "metadata": {},
     "output_type": "execute_result"
    }
   ],
   "source": [
    "test_df = cudf.DataFrame()\n",
    "test_df['domain'] = ['facebook.com','ylqblbltqkynb.net']\n",
    "\n",
    "dga_detector.predict(test_df['domain'])"
   ]
  },
  {
   "cell_type": "markdown",
   "metadata": {},
   "source": [
    "## Conclusion\n",
    "\n",
    "DGA detector in CLX enables users to train their models for detection and also use existing models. This capability could also be used in conjunction with log parsing efforts if the logs contain domain names. DGA detection done with CLX and RAPIDS keeps data in GPU memory, removing unnecessary copy/converts and providing a 4X speed advantage over CPU only implementations. This is esepcially true with large batch sizes."
   ]
  }
 ],
 "metadata": {
  "kernelspec": {
   "display_name": "Python 3",
   "language": "python",
   "name": "python3"
  },
  "language_info": {
   "codemirror_mode": {
    "name": "ipython",
    "version": 3
   },
   "file_extension": ".py",
   "mimetype": "text/x-python",
   "name": "python",
   "nbconvert_exporter": "python",
   "pygments_lexer": "ipython3",
   "version": "3.7.3"
  }
 },
 "nbformat": 4,
 "nbformat_minor": 4
}
