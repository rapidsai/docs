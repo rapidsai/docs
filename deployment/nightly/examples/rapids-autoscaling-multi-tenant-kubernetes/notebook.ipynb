{
 "cells": [
  {
   "attachments": {},
   "cell_type": "markdown",
   "metadata": {
    "tags": [
     "platform/kubernetes",
     "cloud/gcp/gke",
     "tools/dask-operator",
     "library/cuspatial",
     "library/dask",
     "library/cudf",
     "data-format/parquet",
     "data-storage/gcs"
    ]
   },
   "source": [
    "# Autoscaling multi-tenant Kubernetes Deep-Dive\n",
    "\n",
    "In this example we are going to take a deep-dive into launching an autoscaling multi-tenant RAPIDS environment on Kubernetes.\n",
    "\n",
    "Being able to scale out your workloads and only pay for the resources you use is a fantastic way to save costs when using RAPIDS. If you have many folks in your organization who all want to be able to do this you can get added benefits by pooling your resources into an autoscaling Kubernetes cluster.\n",
    "\n",
    "Let's run through the steps required to launch a Kubernetes cluster on [Google Cloud](https://cloud.google.com), then simulate the workloads of many users sharing the cluster. Then we can explore what that experience was like both from a user perspective and also from a cost perspective."
   ]
  },
  {
   "cell_type": "markdown",
   "metadata": {},
   "source": [
    "### Prerequisites\n",
    "\n",
    "Before we get started you'll need to ensure you have a few CLI tools installed.\n",
    "\n",
    "- [`gcloud`](https://cloud.google.com/sdk/gcloud) (and make sure you run [`gcloud auth login`](https://cloud.google.com/sdk/gcloud/reference/auth/login))\n",
    "- [`kubectl`](https://kubernetes.io/docs/tasks/tools/)\n",
    "- [`helm`](https://helm.sh/docs/intro/install/)"
   ]
  },
  {
   "attachments": {},
   "cell_type": "markdown",
   "metadata": {},
   "source": [
    "## Get a Kubernetes Cluster\n",
    "\n",
    "For this example we are going to use [Google Cloud's Google Kubernetes Engine (GKE)](https://cloud.google.com/kubernetes-engine) to launch a cluster.\n",
    "\n",
    "````{docref} /cloud/gcp/gke\n",
    "We are going to follow the RAPIDS GKE deployment instructions but we will modify our cluster creation command to enable Kubernetes cluster autoscaling out of the box.\n",
    "\n",
    "```\n",
    "--enable-autoscaling --autoscaling-profile optimize-utilization \\\n",
    "--num-nodes 1 --min-nodes 1 --max-nodes 20\n",
    "```\n",
    "\n",
    "Data science container images are also notiriously large so we will enable image streaming to speed up our container creation.\n",
    "\n",
    "```\n",
    "--image-type=\"COS_CONTAINERD\" --enable-image-streaming\n",
    "```\n",
    "````"
   ]
  },
  {
   "cell_type": "code",
   "execution_count": 44,
   "metadata": {},
   "outputs": [
    {
     "name": "stdout",
     "output_type": "stream",
     "text": [
      "Default change: VPC-native is the default mode during cluster creation for versions greater than 1.21.0-gke.1500. To create advanced routes based clusters, please pass the `--no-enable-ip-alias` flag\n",
      "Default change: During creation of nodepools or autoscaling configuration changes for cluster versions greater than 1.24.1-gke.800 a default location policy is applied. For Spot and PVM it defaults to ANY, and for all other VM kinds a BALANCED policy is used. To change the default values use the `--location-policy` flag.\n",
      "Note: Your Pod address range (`--cluster-ipv4-cidr`) can accommodate at most 1008 node(s).\n",
      "Note: Machines with GPUs have certain limitations which may affect your workflow. Learn more at https://cloud.google.com/kubernetes-engine/docs/how-to/gpus\n",
      "Creating cluster multi-tenant-rapids in us-central1... Cluster is being configu\n",
      "red...⠼                                                                        \n",
      "Creating cluster multi-tenant-rapids in us-central1... Cluster is being deploye\n",
      "d...⠏                                                                          \n",
      "Creating cluster multi-tenant-rapids in us-central1... Cluster is being health-\n",
      "checked (master is healthy)...done.                                            \n",
      "Created [https://container.googleapis.com/v1/projects/nv-ai-infra/zones/us-central1/clusters/multi-tenant-rapids].\n",
      "To inspect the contents of your cluster, go to: https://console.cloud.google.com/kubernetes/workload_/gcloud/us-central1/multi-tenant-rapids?project=nv-ai-infra\n",
      "kubeconfig entry generated for multi-tenant-rapids.\n",
      "NAME                 LOCATION     MASTER_VERSION    MASTER_IP       MACHINE_TYPE   NODE_VERSION      NUM_NODES  STATUS\n",
      "multi-tenant-rapids  us-central1  1.23.14-gke.1800  104.197.37.225  n1-standard-4  1.23.14-gke.1800  2          RUNNING\n"
     ]
    }
   ],
   "source": [
    "! gcloud container clusters create multi-tenant-rapids \\\n",
    "    --accelerator type=nvidia-tesla-t4,count=2 --machine-type n1-standard-4 \\\n",
    "    --region us-central1 --node-locations us-central1-b,us-central1-c \\\n",
    "    --release-channel stable \\\n",
    "    --enable-autoscaling --autoscaling-profile optimize-utilization \\\n",
    "    --num-nodes 1 --min-nodes 1 --max-nodes 20 \\\n",
    "    --image-type=\"COS_CONTAINERD\" --enable-image-streaming"
   ]
  },
  {
   "attachments": {},
   "cell_type": "markdown",
   "metadata": {},
   "source": [
    "Now that we have our cluster let's [install the NVIDIA Drivers](https://cloud.google.com/kubernetes-engine/docs/how-to/gpus#installing_drivers)."
   ]
  },
  {
   "cell_type": "code",
   "execution_count": 45,
   "metadata": {},
   "outputs": [
    {
     "name": "stdout",
     "output_type": "stream",
     "text": [
      "daemonset.apps/nvidia-driver-installer created\n"
     ]
    }
   ],
   "source": [
    "! kubectl apply -f https://raw.githubusercontent.com/GoogleCloudPlatform/container-engine-accelerators/master/nvidia-driver-installer/cos/daemonset-preloaded-latest.yaml"
   ]
  },
  {
   "attachments": {},
   "cell_type": "markdown",
   "metadata": {},
   "source": [
    "## Observability\n",
    "\n",
    "Once we have run some workloads on our Kubernetes cluster we will want to be able to go back through the cluster telemetry data to see how our autoscaling behaved. To do this let's install [Prometheus](https://prometheus.io/) so that we are recording cluster metrics and can explore them later."
   ]
  },
  {
   "attachments": {},
   "cell_type": "markdown",
   "metadata": {},
   "source": [
    "### Prometheus stack\n",
    "\n",
    "Let's start by installing the [Kubernetes Prometheus Stack](https://github.com/prometheus-community/helm-charts/tree/main/charts/kube-prometheus-stack) which includes everything we need to run Prometheus on our cluster.\n",
    "\n",
    "We need to add a couple of extra configuration options to ensure Prometheus is collecting data frequently enough to analyse, which you will find in `prometheus-stack-values.yaml`."
   ]
  },
  {
   "cell_type": "code",
   "execution_count": 65,
   "metadata": {},
   "outputs": [
    {
     "name": "stdout",
     "output_type": "stream",
     "text": [
      "# prometheus-stack-values.yaml\n",
      "serviceMonitorSelectorNilUsesHelmValues: false\n",
      "\n",
      "prometheus:\n",
      "  prometheusSpec:\n",
      "    # Setting this to a high frequency so that we have richer data for analysis later\n",
      "    scrapeInterval: 1s\n"
     ]
    }
   ],
   "source": [
    "! cat prometheus-stack-values.yaml"
   ]
  },
  {
   "cell_type": "code",
   "execution_count": 46,
   "metadata": {},
   "outputs": [
    {
     "name": "stdout",
     "output_type": "stream",
     "text": [
      "NAME: kube-prometheus-stack\n",
      "LAST DEPLOYED: Tue Feb 21 09:19:39 2023\n",
      "NAMESPACE: prometheus\n",
      "STATUS: deployed\n",
      "REVISION: 1\n",
      "NOTES:\n",
      "kube-prometheus-stack has been installed. Check its status by running:\n",
      "  kubectl --namespace prometheus get pods -l \"release=kube-prometheus-stack\"\n",
      "\n",
      "Visit https://github.com/prometheus-operator/kube-prometheus for instructions on how to create & configure Alertmanager and Prometheus instances using the Operator.\n"
     ]
    }
   ],
   "source": [
    "! helm install --repo https://prometheus-community.github.io/helm-charts kube-prometheus-stack kube-prometheus-stack \\\n",
    "   --create-namespace --namespace prometheus \\\n",
    "   --values prometheus-stack-values.yaml"
   ]
  },
  {
   "cell_type": "markdown",
   "metadata": {},
   "source": [
    "Now that we have Prometheus running and collecting data we can move on and install RAPIDS and run some workloads. We will come back to these tools later when we want to explore the data we have collected."
   ]
  },
  {
   "attachments": {},
   "cell_type": "markdown",
   "metadata": {},
   "source": [
    "## Install RAPIDS\n",
    "\n",
    "For this RAPIDS installation we are going to use a single [Jupyter Notebook Pod](/platforms/kubernetes) and the [Dask Operator](/tools/kubernetes/dask-operator). In a real deployment you would use something like [JupyterHub](https://jupyter.org/hub) or [Kubeflow Notebooks](https://www.kubeflow.org/docs/components/notebooks/) to create a notebook spawning service with user authentication, but that is out of scope for this example.\n",
    "\n",
    "```{docref} /platforms/kubernetes\n",
    "There are many ways to install RAPIDS on Kubernetes. You can find detailed instructions on all of the various methods in the documentation.\n",
    "```"
   ]
  },
  {
   "attachments": {},
   "cell_type": "markdown",
   "metadata": {},
   "source": [
    "### Image steaming (optional)\n",
    "\n",
    "In order to steam the container image to the GKE nodes our image needs to be stored in [Google Cloud Artifact Registry](https://cloud.google.com/artifact-registry/) in the same region as our cluster.\n",
    "\n",
    "```console\n",
    "$ docker pull rapidsai/rapidsai-core:23.02-cuda11.8-runtime-ubuntu22.04-py3.10\n",
    "\n",
    "$ docker tag rapidsai/rapidsai-core:23.02-cuda11.8-runtime-ubuntu22.04-py3.10 REGION-docker.pkg.dev/PROJECT/REPO/IMAGE:TAG\n",
    "\n",
    "$ docker push REGION-docker.pkg.dev/PROJECT/REPO/IMAGE:TAG\n",
    "```\n",
    "\n",
    "Be sure to replace the image throughout the notebook with the one that you have pushed to your own Google Cloud project."
   ]
  },
  {
   "attachments": {},
   "cell_type": "markdown",
   "metadata": {},
   "source": [
    "### Image prepuller (optional)\n",
    "\n",
    "If you know that many users are going to want to frequently pull a specific container image I like to run a small `DaemonSet` which ensures that image starts streaming onto a node as soon as it joins the cluster. This is optional but can reduce wait time for users."
   ]
  },
  {
   "cell_type": "code",
   "execution_count": 39,
   "metadata": {},
   "outputs": [
    {
     "name": "stdout",
     "output_type": "stream",
     "text": [
      "# image-prepuller.yaml\n",
      "apiVersion: apps/v1\n",
      "kind: DaemonSet\n",
      "metadata:\n",
      "  name: prepull-rapids\n",
      "spec:\n",
      "  selector:\n",
      "    matchLabels:\n",
      "      name: prepull-rapids\n",
      "  template:\n",
      "    metadata:\n",
      "      labels:\n",
      "        name: prepull-rapids\n",
      "    spec:\n",
      "      initContainers:\n",
      "        - name: prepull-rapids\n",
      "          image: rapidsai/rapidsai-core:23.02-cuda11.8-runtime-ubuntu22.04-py3.10\n",
      "          command: [\"sh\", \"-c\", \"'true'\"]\n",
      "      containers:\n",
      "        - name: pause\n",
      "          image: gcr.io/google_containers/pause\n"
     ]
    }
   ],
   "source": [
    "! cat image-prepuller.yaml"
   ]
  },
  {
   "cell_type": "code",
   "execution_count": 48,
   "metadata": {},
   "outputs": [
    {
     "name": "stdout",
     "output_type": "stream",
     "text": [
      "daemonset.apps/prepull-rapids created\n"
     ]
    }
   ],
   "source": [
    "! kubectl apply -f image-prepuller.yaml"
   ]
  },
  {
   "cell_type": "markdown",
   "metadata": {},
   "source": [
    "### RAPIDS Notebook Pod\n",
    "\n",
    "Now let's launch a Notebook Pod. \n",
    "\n",
    "````{note}\n",
    "From this Pod we are going to want to be able to spawn Dask cluster resources on Kubernetes, so we need to ensure the Pod has the appropriate permissions to interact with the Kubernetes API. \n",
    "\n",
    "```{docref} /platforms/kubernetes\n",
    "Check out the extended notebook contiguration documentation for more details.\n",
    "```\n",
    "````"
   ]
  },
  {
   "cell_type": "code",
   "execution_count": 49,
   "metadata": {},
   "outputs": [
    {
     "name": "stdout",
     "output_type": "stream",
     "text": [
      "serviceaccount/rapids-dask created\n",
      "role.rbac.authorization.k8s.io/rapids-dask created\n",
      "rolebinding.rbac.authorization.k8s.io/rapids-dask created\n",
      "configmap/jupyter-server-proxy-config created\n",
      "service/rapids-notebook created\n",
      "pod/rapids-notebook created\n"
     ]
    }
   ],
   "source": [
    "! kubectl apply -f rapids-notebook.yaml"
   ]
  },
  {
   "cell_type": "markdown",
   "metadata": {},
   "source": [
    "### Install the Dask Operator\n",
    "\n",
    "Lastly we need to install the Dask Operator so we can spawn RAPIDS Dask cluster from our Notebook session.\n",
    "\n",
    "```{docref} /tools/kubernetes/dask-operator\n",
    "See the RAPIDS Dask Operator documentation for more information.\n",
    "```"
   ]
  },
  {
   "cell_type": "code",
   "execution_count": 50,
   "metadata": {},
   "outputs": [
    {
     "name": "stdout",
     "output_type": "stream",
     "text": [
      "NAME: dask-kubernetes-operator-1676971371\n",
      "LAST DEPLOYED: Tue Feb 21 09:23:06 2023\n",
      "NAMESPACE: dask-operator\n",
      "STATUS: deployed\n",
      "REVISION: 1\n",
      "TEST SUITE: None\n",
      "NOTES:\n",
      "Operator has been installed successfully.\n"
     ]
    }
   ],
   "source": [
    "! helm install --repo https://helm.dask.org dask-kubernetes-operator \\\n",
    "    --generate-name --create-namespace --namespace dask-operator "
   ]
  },
  {
   "cell_type": "markdown",
   "metadata": {},
   "source": [
    "## Running some work\n",
    "\n",
    "Next let's connect to the Jupyter session and run some work on our cluster. You can do this by port forwarding the Jupyter service to your local machine.\n",
    "\n",
    "```console\n",
    "$ kubectl port-forward svc/rapids-notebook 8888:8888                                                                                                                        \n",
    "Forwarding from 127.0.0.1:8888 -> 8888\n",
    "Forwarding from [::1]:8888 -> 8888\n",
    "```\n",
    "\n",
    "Then open http://localhost:8888 in your browser.\n",
    "\n",
    "```{note}\n",
    "If you are following along with this notebook locally you will also want to upload it to the Jupyter session and continue running the cells from there.\n",
    "```"
   ]
  },
  {
   "cell_type": "markdown",
   "metadata": {},
   "source": [
    "### Check our capabilities\n",
    "\n",
    "Let's make sure our environment is all set up correctly by checking out our capabilities. We can start by running `nvidia-smi` to inspect our Notebook GPU."
   ]
  },
  {
   "cell_type": "code",
   "execution_count": 1,
   "metadata": {},
   "outputs": [
    {
     "name": "stdout",
     "output_type": "stream",
     "text": [
      "Tue Feb 21 14:50:01 2023       \n",
      "+-----------------------------------------------------------------------------+\n",
      "| NVIDIA-SMI 510.47.03    Driver Version: 510.47.03    CUDA Version: 11.6     |\n",
      "|-------------------------------+----------------------+----------------------+\n",
      "| GPU  Name        Persistence-M| Bus-Id        Disp.A | Volatile Uncorr. ECC |\n",
      "| Fan  Temp  Perf  Pwr:Usage/Cap|         Memory-Usage | GPU-Util  Compute M. |\n",
      "|                               |                      |               MIG M. |\n",
      "|===============================+======================+======================|\n",
      "|   0  Tesla T4            Off  | 00000000:00:04.0 Off |                    0 |\n",
      "| N/A   41C    P8    14W /  70W |      0MiB / 15360MiB |      0%      Default |\n",
      "|                               |                      |                  N/A |\n",
      "+-------------------------------+----------------------+----------------------+\n",
      "                                                                               \n",
      "+-----------------------------------------------------------------------------+\n",
      "| Processes:                                                                  |\n",
      "|  GPU   GI   CI        PID   Type   Process name                  GPU Memory |\n",
      "|        ID   ID                                                   Usage      |\n",
      "|=============================================================================|\n",
      "|  No running processes found                                                 |\n",
      "+-----------------------------------------------------------------------------+\n"
     ]
    }
   ],
   "source": [
    "! nvidia-smi"
   ]
  },
  {
   "cell_type": "markdown",
   "metadata": {},
   "source": [
    "Great we can see our notebook has an NVIDIA T4. Now let's use `kubectl` to inspect our cluster. We won't actually have `kubectl` installed in our remote Jupyter environment so let's do that first."
   ]
  },
  {
   "cell_type": "code",
   "execution_count": 2,
   "metadata": {
    "tags": []
   },
   "outputs": [
    {
     "name": "stdout",
     "output_type": "stream",
     "text": [
      "Preparing transaction: ...working... done\n",
      "Verifying transaction: ...working... done\n",
      "Executing transaction: ...working... done\n"
     ]
    }
   ],
   "source": [
    "! mamba install --quiet -c conda-forge kubernetes-client -y"
   ]
  },
  {
   "cell_type": "code",
   "execution_count": 3,
   "metadata": {},
   "outputs": [
    {
     "name": "stdout",
     "output_type": "stream",
     "text": [
      "NAME                   READY   STATUS    RESTARTS   AGE\n",
      "prepull-rapids-l5qgt   1/1     Running   0          3m24s\n",
      "prepull-rapids-w8xcj   1/1     Running   0          3m24s\n",
      "rapids-notebook        1/1     Running   0          2m54s\n"
     ]
    }
   ],
   "source": [
    "! kubectl get pods"
   ]
  },
  {
   "cell_type": "markdown",
   "metadata": {},
   "source": [
    "We can see our prepull Pods we created earlier alongside our `rapids-notebook` Pod that we are currently in. As we created the prepull Pod via a `DaemonSet` we also know that there are two nodes in our Kubernetes cluster because there are two prepull Pods. As our cluster scales we will see more of them appear."
   ]
  },
  {
   "cell_type": "code",
   "execution_count": 5,
   "metadata": {},
   "outputs": [
    {
     "name": "stdout",
     "output_type": "stream",
     "text": [
      "No resources found in default namespace.\n"
     ]
    }
   ],
   "source": [
    "! kubectl get daskclusters"
   ]
  },
  {
   "cell_type": "markdown",
   "metadata": {},
   "source": [
    "We can also see that we currently have no `DaskCluster` resources, but this is good because we didn't get a `server doesn't have a resource type \"daskclusters\"` error so we know the Dask Operator also installed successfully."
   ]
  },
  {
   "attachments": {},
   "cell_type": "markdown",
   "metadata": {},
   "source": [
    "### Small workload\n",
    "\n",
    "Let's run a small RAPIDS workload that stretches our Kubernetes cluster a little and causes it to scale. \n",
    "\n",
    "We know that we have two nodes in our Kubernetes cluster and we selected a node type with 2 GPUs when we launched it on GKE. Our Notebook Pod is taking up one GPU so we have three remaining. If we launch a Dask Cluster we will need one GPU for the scheduler and one for each worker. So let's create a Dask cluster with four workers which will cause our Kubernetes to add one more node."
   ]
  },
  {
   "attachments": {},
   "cell_type": "markdown",
   "metadata": {},
   "source": [
    "First let's install `dask-kubernetes` so we can create our `DaskCluster` resources from Python. We will also install `gcsfs` so that our workload can read data from [Google Cloud Storage](https://cloud.google.com/storage)."
   ]
  },
  {
   "cell_type": "code",
   "execution_count": 6,
   "metadata": {},
   "outputs": [
    {
     "name": "stdout",
     "output_type": "stream",
     "text": [
      "Preparing transaction: ...working... done\n",
      "Verifying transaction: ...working... done\n",
      "Executing transaction: ...working... done\n"
     ]
    }
   ],
   "source": [
    "! mamba install --quiet -c conda-forge dask-kubernetes gcsfs -y"
   ]
  },
  {
   "cell_type": "code",
   "execution_count": 7,
   "metadata": {},
   "outputs": [
    {
     "name": "stderr",
     "output_type": "stream",
     "text": [
      "Unclosed client session\n",
      "client_session: <aiohttp.client.ClientSession object at 0x7f81225ac820>\n",
      "Unclosed connection\n",
      "client_connection: Connection<ConnectionKey(host='10.32.0.1', port=443, is_ssl=True, ssl=None, proxy=None, proxy_auth=None, proxy_headers_hash=None)>\n"
     ]
    }
   ],
   "source": [
    "from dask_kubernetes.operator import KubeCluster\n",
    "\n",
    "cluster = KubeCluster(\n",
    "    name=\"rapids-dask-1\",\n",
    "    image=\"rapidsai/rapidsai-core:23.02-cuda11.8-runtime-ubuntu22.04-py3.10\",  # Replace me with your cached image\n",
    "    n_workers=4,\n",
    "    resources={\"limits\": {\"nvidia.com/gpu\": \"1\"}},\n",
    "    env={\"DISABLE_JUPYTER\": \"true\", \"EXTRA_PIP_PACKAGES\": \"gcsfs\"},\n",
    "    worker_command=\"dask-cuda-worker\",\n",
    ")"
   ]
  },
  {
   "cell_type": "markdown",
   "metadata": {},
   "source": [
    "Great our Dask cluster was created but right now we just have a scheduler with half of our workers. We can use `kubectl` to see what is happening."
   ]
  },
  {
   "cell_type": "code",
   "execution_count": 12,
   "metadata": {},
   "outputs": [
    {
     "name": "stdout",
     "output_type": "stream",
     "text": [
      "NAME                                      READY   STATUS    RESTARTS   AGE\n",
      "prepull-rapids-l5qgt                      1/1     Running   0          6m18s\n",
      "prepull-rapids-w8xcj                      1/1     Running   0          6m18s\n",
      "rapids-dask-1-default-worker-5f59bc8e7a   0/1     Pending   0          68s\n",
      "rapids-dask-1-default-worker-88ab088b7c   0/1     Pending   0          68s\n",
      "rapids-dask-1-default-worker-b700343afe   1/1     Running   0          68s\n",
      "rapids-dask-1-default-worker-e0bb7fff2d   1/1     Running   0          68s\n",
      "rapids-dask-1-scheduler                   1/1     Running   0          69s\n",
      "rapids-notebook                           1/1     Running   0          5m48s\n"
     ]
    }
   ],
   "source": [
    "! kubectl get pods"
   ]
  },
  {
   "cell_type": "markdown",
   "metadata": {},
   "source": [
    "We see here that most of our Pods are `Running` but two workers are `Pending`. This is because we don't have enough GPUs for them right now. We can look at the events on our pending pods for more information."
   ]
  },
  {
   "cell_type": "code",
   "execution_count": 11,
   "metadata": {},
   "outputs": [
    {
     "name": "stdout",
     "output_type": "stream",
     "text": [
      "LAST SEEN   TYPE      REASON             OBJECT                                        MESSAGE\n",
      "50s         Warning   FailedScheduling   pod/rapids-dask-1-default-worker-5f59bc8e7a   0/2 nodes are available: 2 Insufficient nvidia.com/gpu.\n",
      "12s         Normal    TriggeredScaleUp   pod/rapids-dask-1-default-worker-5f59bc8e7a   pod triggered scale-up: [{https://www.googleapis.com/compute/v1/projects/nv-ai-infra/zones/us-central1-b/instanceGroups/gke-multi-tenant-rapids-default-pool-3a6a793f-grp 1->2 (max: 20)}]\n"
     ]
    }
   ],
   "source": [
    "! kubectl get event --field-selector involvedObject.name=rapids-dask-1-default-worker-5f59bc8e7a"
   ]
  },
  {
   "attachments": {},
   "cell_type": "markdown",
   "metadata": {},
   "source": [
    "Here we can see that our Pod triggered the cluster to scale from one to two nodes. If we wait for our new node to come online we should see a few things happen. \n",
    "\n",
    "- First there will be a new prepull Pod scheduled on the new node which will start streaming the RAPIDS container image.\n",
    "- Other Pods in the `kube-system` namespace will be scheduled to install NVIDIA drivers and update the Kubernetes API.\n",
    "- Then once the GPU drivers have finished installing the worker Pods will be scheduled onto our new node\n",
    "- Then once the image is ready our Pods move into a `Running` phase."
   ]
  },
  {
   "cell_type": "code",
   "execution_count": 13,
   "metadata": {},
   "outputs": [
    {
     "name": "stdout",
     "output_type": "stream",
     "text": [
      "NAME                                      READY   STATUS    RESTARTS   AGE\n",
      "prepull-rapids-l5qgt                      1/1     Running   0          6m41s\n",
      "prepull-rapids-w8xcj                      1/1     Running   0          6m41s\n",
      "rapids-dask-1-default-worker-5f59bc8e7a   0/1     Pending   0          91s\n",
      "rapids-dask-1-default-worker-88ab088b7c   0/1     Pending   0          91s\n",
      "rapids-dask-1-default-worker-b700343afe   1/1     Running   0          91s\n",
      "rapids-dask-1-default-worker-e0bb7fff2d   1/1     Running   0          91s\n",
      "rapids-dask-1-scheduler                   1/1     Running   0          92s\n",
      "rapids-notebook                           1/1     Running   0          6m11s\n",
      "prepull-rapids-69pbq                      0/1     Pending   0          0s\n",
      "prepull-rapids-69pbq                      0/1     Pending   0          0s\n",
      "prepull-rapids-69pbq                      0/1     Init:0/1   0          4s\n",
      "rapids-dask-1-default-worker-88ab088b7c   0/1     Pending    0          2m3s\n",
      "prepull-rapids-69pbq                      0/1     Init:0/1   0          9s\n",
      "prepull-rapids-69pbq                      0/1     PodInitializing   0          15s\n",
      "rapids-dask-1-default-worker-5f59bc8e7a   0/1     Pending           0          2m33s\n",
      "prepull-rapids-69pbq                      1/1     Running           0          3m7s\n",
      "rapids-dask-1-default-worker-5f59bc8e7a   0/1     Pending           0          5m13s\n",
      "rapids-dask-1-default-worker-88ab088b7c   0/1     Pending           0          5m13s\n",
      "rapids-dask-1-default-worker-5f59bc8e7a   0/1     ContainerCreating   0          5m14s\n",
      "rapids-dask-1-default-worker-88ab088b7c   0/1     ContainerCreating   0          5m14s\n",
      "rapids-dask-1-default-worker-5f59bc8e7a   1/1     Running             0          5m26s\n",
      "rapids-dask-1-default-worker-88ab088b7c   1/1     Running             0          5m26s\n",
      "^C\n"
     ]
    }
   ],
   "source": [
    "! kubectl get pods -w"
   ]
  },
  {
   "cell_type": "markdown",
   "metadata": {},
   "source": [
    "Awesome we can now run some work on our Dask cluster."
   ]
  },
  {
   "cell_type": "code",
   "execution_count": 14,
   "metadata": {},
   "outputs": [
    {
     "data": {
      "text/html": [
       "<div>\n",
       "    <div style=\"width: 24px; height: 24px; background-color: #e1e1e1; border: 3px solid #9D9D9D; border-radius: 5px; position: absolute;\"> </div>\n",
       "    <div style=\"margin-left: 48px;\">\n",
       "        <h3 style=\"margin-bottom: 0px;\">Client</h3>\n",
       "        <p style=\"color: #9D9D9D; margin-bottom: 0px;\">Client-3722820c-b1f8-11ed-8042-fa6ca111b70e</p>\n",
       "        <table style=\"width: 100%; text-align: left;\">\n",
       "\n",
       "        <tr>\n",
       "        \n",
       "            <td style=\"text-align: left;\"><strong>Connection method:</strong> Cluster object</td>\n",
       "            <td style=\"text-align: left;\"><strong>Cluster type:</strong> dask_kubernetes.KubeCluster</td>\n",
       "        \n",
       "        </tr>\n",
       "\n",
       "        \n",
       "            <tr>\n",
       "                <td style=\"text-align: left;\">\n",
       "                    <strong>Dashboard: </strong> <a href=\"/proxy/rapids-dask-1-scheduler.default:8787/status\" target=\"_blank\">/proxy/rapids-dask-1-scheduler.default:8787/status</a>\n",
       "                </td>\n",
       "                <td style=\"text-align: left;\"></td>\n",
       "            </tr>\n",
       "        \n",
       "\n",
       "        </table>\n",
       "\n",
       "        \n",
       "            <button style=\"margin-bottom: 12px;\" data-commandlinker-command=\"dask:populate-and-launch-layout\" data-commandlinker-args='{\"url\": \"/proxy/rapids-dask-1-scheduler.default:8787/status\" }'>\n",
       "                Launch dashboard in JupyterLab\n",
       "            </button>\n",
       "        \n",
       "\n",
       "        \n",
       "            <details>\n",
       "            <summary style=\"margin-bottom: 20px;\"><h3 style=\"display: inline;\">Cluster Info</h3></summary>\n",
       "            <div class=\"jp-RenderedHTMLCommon jp-RenderedHTML jp-mod-trusted jp-OutputArea-output\">\n",
       "    <div style=\"width: 24px; height: 24px; background-color: #e1e1e1; border: 3px solid #9D9D9D; border-radius: 5px; position: absolute;\">\n",
       "    </div>\n",
       "    <div style=\"margin-left: 48px;\">\n",
       "        <h3 style=\"margin-bottom: 0px; margin-top: 0px;\">KubeCluster</h3>\n",
       "        <p style=\"color: #9D9D9D; margin-bottom: 0px;\">rapids-dask-1</p>\n",
       "        <table style=\"width: 100%; text-align: left;\">\n",
       "            <tr>\n",
       "                <td style=\"text-align: left;\">\n",
       "                    <strong>Dashboard:</strong> <a href=\"/proxy/rapids-dask-1-scheduler.default:8787/status\" target=\"_blank\">/proxy/rapids-dask-1-scheduler.default:8787/status</a>\n",
       "                </td>\n",
       "                <td style=\"text-align: left;\">\n",
       "                    <strong>Workers:</strong> 2\n",
       "                </td>\n",
       "            </tr>\n",
       "            <tr>\n",
       "                <td style=\"text-align: left;\">\n",
       "                    <strong>Total threads:</strong> 2\n",
       "                </td>\n",
       "                <td style=\"text-align: left;\">\n",
       "                    <strong>Total memory:</strong> 29.30 GiB\n",
       "                </td>\n",
       "            </tr>\n",
       "            \n",
       "        </table>\n",
       "\n",
       "        <details>\n",
       "            <summary style=\"margin-bottom: 20px;\">\n",
       "                <h3 style=\"display: inline;\">Scheduler Info</h3>\n",
       "            </summary>\n",
       "\n",
       "            <div style=\"\">\n",
       "    <div>\n",
       "        <div style=\"width: 24px; height: 24px; background-color: #FFF7E5; border: 3px solid #FF6132; border-radius: 5px; position: absolute;\"> </div>\n",
       "        <div style=\"margin-left: 48px;\">\n",
       "            <h3 style=\"margin-bottom: 0px;\">Scheduler</h3>\n",
       "            <p style=\"color: #9D9D9D; margin-bottom: 0px;\">Scheduler-5ef1a738-4ae1-4f07-ab68-160cfda35431</p>\n",
       "            <table style=\"width: 100%; text-align: left;\">\n",
       "                <tr>\n",
       "                    <td style=\"text-align: left;\">\n",
       "                        <strong>Comm:</strong> tcp://10.28.1.6:8786\n",
       "                    </td>\n",
       "                    <td style=\"text-align: left;\">\n",
       "                        <strong>Workers:</strong> 2\n",
       "                    </td>\n",
       "                </tr>\n",
       "                <tr>\n",
       "                    <td style=\"text-align: left;\">\n",
       "                        <strong>Dashboard:</strong> <a href=\"/proxy/10.28.1.6:8787/status\" target=\"_blank\">/proxy/10.28.1.6:8787/status</a>\n",
       "                    </td>\n",
       "                    <td style=\"text-align: left;\">\n",
       "                        <strong>Total threads:</strong> 2\n",
       "                    </td>\n",
       "                </tr>\n",
       "                <tr>\n",
       "                    <td style=\"text-align: left;\">\n",
       "                        <strong>Started:</strong> 5 minutes ago\n",
       "                    </td>\n",
       "                    <td style=\"text-align: left;\">\n",
       "                        <strong>Total memory:</strong> 29.30 GiB\n",
       "                    </td>\n",
       "                </tr>\n",
       "            </table>\n",
       "        </div>\n",
       "    </div>\n",
       "\n",
       "    <details style=\"margin-left: 48px;\">\n",
       "        <summary style=\"margin-bottom: 20px;\">\n",
       "            <h3 style=\"display: inline;\">Workers</h3>\n",
       "        </summary>\n",
       "\n",
       "        \n",
       "        <div style=\"margin-bottom: 20px;\">\n",
       "            <div style=\"width: 24px; height: 24px; background-color: #DBF5FF; border: 3px solid #4CC9FF; border-radius: 5px; position: absolute;\"> </div>\n",
       "            <div style=\"margin-left: 48px;\">\n",
       "            <details>\n",
       "                <summary>\n",
       "                    <h4 style=\"margin-bottom: 0px; display: inline;\">Worker: rapids-dask-1-default-worker-b700343afe</h4>\n",
       "                </summary>\n",
       "                <table style=\"width: 100%; text-align: left;\">\n",
       "                    <tr>\n",
       "                        <td style=\"text-align: left;\">\n",
       "                            <strong>Comm: </strong> tcp://10.28.0.24:35501\n",
       "                        </td>\n",
       "                        <td style=\"text-align: left;\">\n",
       "                            <strong>Total threads: </strong> 1\n",
       "                        </td>\n",
       "                    </tr>\n",
       "                    <tr>\n",
       "                        <td style=\"text-align: left;\">\n",
       "                            <strong>Dashboard: </strong> <a href=\"/proxy/10.28.0.24:44477/status\" target=\"_blank\">/proxy/10.28.0.24:44477/status</a>\n",
       "                        </td>\n",
       "                        <td style=\"text-align: left;\">\n",
       "                            <strong>Memory: </strong> 14.65 GiB\n",
       "                        </td>\n",
       "                    </tr>\n",
       "                    <tr>\n",
       "                        <td style=\"text-align: left;\">\n",
       "                            <strong>Nanny: </strong> tcp://10.28.0.24:41347\n",
       "                        </td>\n",
       "                        <td style=\"text-align: left;\"></td>\n",
       "                    </tr>\n",
       "                    <tr>\n",
       "                        <td colspan=\"2\" style=\"text-align: left;\">\n",
       "                            <strong>Local directory: </strong> /tmp/dask-worker-space/worker-x_t6bef5\n",
       "                        </td>\n",
       "                    </tr>\n",
       "\n",
       "                    \n",
       "                    <tr>\n",
       "                        <td style=\"text-align: left;\">\n",
       "                            <strong>GPU: </strong>Tesla T4\n",
       "                        </td>\n",
       "                        <td style=\"text-align: left;\">\n",
       "                            <strong>GPU memory: </strong> 15.00 GiB\n",
       "                        </td>\n",
       "                    </tr>\n",
       "                    \n",
       "\n",
       "                    \n",
       "\n",
       "                </table>\n",
       "            </details>\n",
       "            </div>\n",
       "        </div>\n",
       "        \n",
       "        <div style=\"margin-bottom: 20px;\">\n",
       "            <div style=\"width: 24px; height: 24px; background-color: #DBF5FF; border: 3px solid #4CC9FF; border-radius: 5px; position: absolute;\"> </div>\n",
       "            <div style=\"margin-left: 48px;\">\n",
       "            <details>\n",
       "                <summary>\n",
       "                    <h4 style=\"margin-bottom: 0px; display: inline;\">Worker: rapids-dask-1-default-worker-e0bb7fff2d</h4>\n",
       "                </summary>\n",
       "                <table style=\"width: 100%; text-align: left;\">\n",
       "                    <tr>\n",
       "                        <td style=\"text-align: left;\">\n",
       "                            <strong>Comm: </strong> tcp://10.28.0.23:46035\n",
       "                        </td>\n",
       "                        <td style=\"text-align: left;\">\n",
       "                            <strong>Total threads: </strong> 1\n",
       "                        </td>\n",
       "                    </tr>\n",
       "                    <tr>\n",
       "                        <td style=\"text-align: left;\">\n",
       "                            <strong>Dashboard: </strong> <a href=\"/proxy/10.28.0.23:42637/status\" target=\"_blank\">/proxy/10.28.0.23:42637/status</a>\n",
       "                        </td>\n",
       "                        <td style=\"text-align: left;\">\n",
       "                            <strong>Memory: </strong> 14.65 GiB\n",
       "                        </td>\n",
       "                    </tr>\n",
       "                    <tr>\n",
       "                        <td style=\"text-align: left;\">\n",
       "                            <strong>Nanny: </strong> tcp://10.28.0.23:38783\n",
       "                        </td>\n",
       "                        <td style=\"text-align: left;\"></td>\n",
       "                    </tr>\n",
       "                    <tr>\n",
       "                        <td colspan=\"2\" style=\"text-align: left;\">\n",
       "                            <strong>Local directory: </strong> /tmp/dask-worker-space/worker-8z3017h5\n",
       "                        </td>\n",
       "                    </tr>\n",
       "\n",
       "                    \n",
       "                    <tr>\n",
       "                        <td style=\"text-align: left;\">\n",
       "                            <strong>GPU: </strong>Tesla T4\n",
       "                        </td>\n",
       "                        <td style=\"text-align: left;\">\n",
       "                            <strong>GPU memory: </strong> 15.00 GiB\n",
       "                        </td>\n",
       "                    </tr>\n",
       "                    \n",
       "\n",
       "                    \n",
       "\n",
       "                </table>\n",
       "            </details>\n",
       "            </div>\n",
       "        </div>\n",
       "        \n",
       "\n",
       "    </details>\n",
       "</div>\n",
       "\n",
       "        </details>\n",
       "    </div>\n",
       "</div>\n",
       "            </details>\n",
       "        \n",
       "\n",
       "    </div>\n",
       "</div>"
      ],
      "text/plain": [
       "<Client: 'tcp://10.28.1.6:8786' processes=2 threads=2, memory=29.30 GiB>"
      ]
     },
     "execution_count": 14,
     "metadata": {},
     "output_type": "execute_result"
    }
   ],
   "source": [
    "from dask.distributed import Client, wait\n",
    "\n",
    "client = Client(cluster)\n",
    "client"
   ]
  },
  {
   "cell_type": "markdown",
   "metadata": {},
   "source": [
    "Let's load some data from GCS into memory on our GPUs."
   ]
  },
  {
   "cell_type": "code",
   "execution_count": null,
   "metadata": {},
   "outputs": [],
   "source": [
    "%%time\n",
    "import dask.config\n",
    "import dask.dataframe as dd\n",
    "\n",
    "dask.config.set({\"dataframe.backend\": \"cudf\"})\n",
    "\n",
    "df = dd.read_parquet(\n",
    "    \"gcs://anaconda-public-data/nyc-taxi/2015.parquet\",\n",
    "    storage_options={\"token\": \"cloud\"},\n",
    ").persist()\n",
    "wait(df)\n",
    "df"
   ]
  },
  {
   "cell_type": "markdown",
   "metadata": {},
   "source": [
    "Now we can do some calculation. This can be whatever you want to do with your data, for this example let's do something quick like calculating the haversine distance between the pickup and dropoff locations (yes calculating this on ~100M rows is a quick task for RAPIDS 😁)."
   ]
  },
  {
   "cell_type": "code",
   "execution_count": null,
   "metadata": {},
   "outputs": [],
   "source": [
    "from cuspatial import haversine_distance\n",
    "\n",
    "\n",
    "def map_haversine(part):\n",
    "    return haversine_distance(\n",
    "        part[\"pickup_longitude\"],\n",
    "        part[\"pickup_latitude\"],\n",
    "        part[\"dropoff_longitude\"],\n",
    "        part[\"dropoff_latitude\"],\n",
    "    )\n",
    "\n",
    "\n",
    "df[\"haversine_distance\"] = df.map_partitions(map_haversine)"
   ]
  },
  {
   "cell_type": "code",
   "execution_count": 18,
   "metadata": {},
   "outputs": [
    {
     "name": "stdout",
     "output_type": "stream",
     "text": [
      "CPU times: user 1.44 s, sys: 853 ms, total: 2.29 s\n",
      "Wall time: 4.66 s\n"
     ]
    },
    {
     "data": {
      "text/plain": [
       "tpep_pickup_datetime\n",
       "2015-01-01 00:00:00       4.326464\n",
       "2015-01-01 00:00:00    8666.633292\n",
       "2015-01-01 00:00:00       1.285498\n",
       "2015-01-01 00:00:01       0.827326\n",
       "2015-01-01 00:00:03       2.267110\n",
       "                          ...     \n",
       "2015-12-31 23:59:56       1.570824\n",
       "2015-12-31 23:59:58       2.340270\n",
       "2015-12-31 23:59:59       2.801575\n",
       "2015-12-31 23:59:59       5.091840\n",
       "2015-12-31 23:59:59       0.927577\n",
       "Name: haversine_distance, Length: 146112989, dtype: float64"
      ]
     },
     "execution_count": 18,
     "metadata": {},
     "output_type": "execute_result"
    }
   ],
   "source": [
    "%%time\n",
    "df[\"haversine_distance\"].compute()"
   ]
  },
  {
   "attachments": {},
   "cell_type": "markdown",
   "metadata": {},
   "source": [
    "Great, so we now have a little toy workloads that opens some data, does some calculation and takes a bit of time.\n",
    "\n",
    "Let's remove our single Dask cluster and switch to simulating many workloads running at once."
   ]
  },
  {
   "cell_type": "code",
   "execution_count": 19,
   "metadata": {},
   "outputs": [],
   "source": [
    "client.close()\n",
    "cluster.close()"
   ]
  },
  {
   "cell_type": "markdown",
   "metadata": {},
   "source": [
    "## Simulating many multi-tenant workloads\n",
    "\n",
    "Now we have a toy workload which we can use to represent one user on our multi-tenant cluster.\n",
    "\n",
    "Let's now construct a larger graph to simulate lots of users spinning up Dask clusters and running workloads."
   ]
  },
  {
   "cell_type": "markdown",
   "metadata": {},
   "source": [
    "First let's create a function that contains our whole workload including our cluster setup."
   ]
  },
  {
   "cell_type": "code",
   "execution_count": 31,
   "metadata": {},
   "outputs": [],
   "source": [
    "import dask.delayed\n",
    "\n",
    "\n",
    "@dask.delayed\n",
    "def run_haversine(*args):\n",
    "    from dask_kubernetes.operator import KubeCluster\n",
    "    from dask.distributed import Client, wait\n",
    "    import uuid\n",
    "    import dask.config\n",
    "    import dask.dataframe as dd\n",
    "\n",
    "    dask.config.set({\"dataframe.backend\": \"cudf\"})\n",
    "\n",
    "    def map_haversine(part):\n",
    "        from cuspatial import haversine_distance\n",
    "\n",
    "        return haversine_distance(\n",
    "            part[\"pickup_longitude\"],\n",
    "            part[\"pickup_latitude\"],\n",
    "            part[\"dropoff_longitude\"],\n",
    "            part[\"dropoff_latitude\"],\n",
    "        )\n",
    "\n",
    "    with KubeCluster(\n",
    "        name=\"rapids-dask-\" + uuid.uuid4().hex[:5],\n",
    "        image=\"rapidsai/rapidsai-core:23.02-cuda11.8-runtime-ubuntu22.04-py3.10\",  # Replace me with your cached image\n",
    "        n_workers=2,\n",
    "        resources={\"limits\": {\"nvidia.com/gpu\": \"1\"}},\n",
    "        env={\"DISABLE_JUPYTER\": \"true\", \"EXTRA_PIP_PACKAGES\": \"gcsfs\"},\n",
    "        worker_command=\"dask-cuda-worker\",\n",
    "        resource_timeout=600,\n",
    "    ) as cluster:\n",
    "        with Client(cluster) as client:\n",
    "            client.wait_for_workers(2)\n",
    "            df = dd.read_parquet(\n",
    "                \"gcs://anaconda-public-data/nyc-taxi/2015.parquet\",\n",
    "                storage_options={\"token\": \"cloud\"},\n",
    "            )\n",
    "            client.compute(df.map_partitions(map_haversine))"
   ]
  },
  {
   "cell_type": "markdown",
   "metadata": {},
   "source": [
    "Now if we run this function we will launch a Dask cluster and run our workload. We will use context managers to ensure our Dask cluster gets cleaned up when the work is complete. Given that we have no active Dask clusters this function will be executed on the Notebook Pod."
   ]
  },
  {
   "cell_type": "code",
   "execution_count": 17,
   "metadata": {},
   "outputs": [
    {
     "name": "stderr",
     "output_type": "stream",
     "text": [
      "Unclosed client session\n",
      "client_session: <aiohttp.client.ClientSession object at 0x7fd0f4b8b340>\n",
      "Unclosed connection\n",
      "client_connection: Connection<ConnectionKey(host='10.32.0.1', port=443, is_ssl=True, ssl=None, proxy=None, proxy_auth=None, proxy_headers_hash=None)>\n"
     ]
    },
    {
     "name": "stdout",
     "output_type": "stream",
     "text": [
      "CPU times: user 194 ms, sys: 30 ms, total: 224 ms\n",
      "Wall time: 23.6 s\n"
     ]
    }
   ],
   "source": [
    "%%time\n",
    "run_haversine().compute()"
   ]
  },
  {
   "attachments": {},
   "cell_type": "markdown",
   "metadata": {},
   "source": [
    "Great that works, so we have a self contained RAPIDS workload that launches its own Dask cluster and performs some work."
   ]
  },
  {
   "attachments": {},
   "cell_type": "markdown",
   "metadata": {},
   "source": [
    "### Simulating our multi-tenant workloads\n",
    "\n",
    "To see how our Kubernetes cluster behaves when many users are sharing it we want to run our haversine workload a bunch of times. \n",
    "\n",
    "```{note}\n",
    "If you're not interested in how we simulate this workload feel free to skip onto the analysis section.\n",
    "```\n",
    "\n",
    "To do this we can create another Dask cluster which we will use to pilot our workloads. This cluster will be a proxy for the Jupyter sessions our users would be interacting with. Then we will construct a Dask graph which runs our haversine workload many times in various configurations to simulate different users submitting different workloads on an ad-hoc basis."
   ]
  },
  {
   "cell_type": "code",
   "execution_count": 35,
   "metadata": {},
   "outputs": [
    {
     "name": "stderr",
     "output_type": "stream",
     "text": [
      "Unclosed client session\n",
      "client_session: <aiohttp.client.ClientSession object at 0x7f80300cfd30>\n"
     ]
    },
    {
     "data": {
      "application/vnd.jupyter.widget-view+json": {
       "model_id": "ebd78135bcbd4e449eaa0736556e8e60",
       "version_major": 2,
       "version_minor": 0
      },
      "text/html": [
       "<div class=\"jp-RenderedHTMLCommon jp-RenderedHTML jp-mod-trusted jp-OutputArea-output\">\n",
       "    <div style=\"width: 24px; height: 24px; background-color: #e1e1e1; border: 3px solid #9D9D9D; border-radius: 5px; position: absolute;\">\n",
       "    </div>\n",
       "    <div style=\"margin-left: 48px;\">\n",
       "        <h3 style=\"margin-bottom: 0px; margin-top: 0px;\">KubeCluster</h3>\n",
       "        <p style=\"color: #9D9D9D; margin-bottom: 0px;\">mock-jupyter-cluster</p>\n",
       "        <table style=\"width: 100%; text-align: left;\">\n",
       "            <tr>\n",
       "                <td style=\"text-align: left;\">\n",
       "                    <strong>Dashboard:</strong> <a href=\"/proxy/mock-jupyter-cluster-scheduler.default:8787/status\" target=\"_blank\">/proxy/mock-jupyter-cluster-scheduler.default:8787/status</a>\n",
       "                </td>\n",
       "                <td style=\"text-align: left;\">\n",
       "                    <strong>Workers:</strong> 0\n",
       "                </td>\n",
       "            </tr>\n",
       "            <tr>\n",
       "                <td style=\"text-align: left;\">\n",
       "                    <strong>Total threads:</strong> 0\n",
       "                </td>\n",
       "                <td style=\"text-align: left;\">\n",
       "                    <strong>Total memory:</strong> 0 B\n",
       "                </td>\n",
       "            </tr>\n",
       "            \n",
       "        </table>\n",
       "\n",
       "        <details>\n",
       "            <summary style=\"margin-bottom: 20px;\">\n",
       "                <h3 style=\"display: inline;\">Scheduler Info</h3>\n",
       "            </summary>\n",
       "\n",
       "            <div style=\"\">\n",
       "    <div>\n",
       "        <div style=\"width: 24px; height: 24px; background-color: #FFF7E5; border: 3px solid #FF6132; border-radius: 5px; position: absolute;\"> </div>\n",
       "        <div style=\"margin-left: 48px;\">\n",
       "            <h3 style=\"margin-bottom: 0px;\">Scheduler</h3>\n",
       "            <p style=\"color: #9D9D9D; margin-bottom: 0px;\">Scheduler-f6d55e0c-a7b1-4dfd-80b4-be0566b14cce</p>\n",
       "            <table style=\"width: 100%; text-align: left;\">\n",
       "                <tr>\n",
       "                    <td style=\"text-align: left;\">\n",
       "                        <strong>Comm:</strong> tcp://10.28.1.12:8786\n",
       "                    </td>\n",
       "                    <td style=\"text-align: left;\">\n",
       "                        <strong>Workers:</strong> 0\n",
       "                    </td>\n",
       "                </tr>\n",
       "                <tr>\n",
       "                    <td style=\"text-align: left;\">\n",
       "                        <strong>Dashboard:</strong> <a href=\"/proxy/10.28.1.12:8787/status\" target=\"_blank\">/proxy/10.28.1.12:8787/status</a>\n",
       "                    </td>\n",
       "                    <td style=\"text-align: left;\">\n",
       "                        <strong>Total threads:</strong> 0\n",
       "                    </td>\n",
       "                </tr>\n",
       "                <tr>\n",
       "                    <td style=\"text-align: left;\">\n",
       "                        <strong>Started:</strong> Just now\n",
       "                    </td>\n",
       "                    <td style=\"text-align: left;\">\n",
       "                        <strong>Total memory:</strong> 0 B\n",
       "                    </td>\n",
       "                </tr>\n",
       "            </table>\n",
       "        </div>\n",
       "    </div>\n",
       "\n",
       "    <details style=\"margin-left: 48px;\">\n",
       "        <summary style=\"margin-bottom: 20px;\">\n",
       "            <h3 style=\"display: inline;\">Workers</h3>\n",
       "        </summary>\n",
       "\n",
       "        \n",
       "\n",
       "    </details>\n",
       "</div>\n",
       "\n",
       "        </details>\n",
       "    </div>\n",
       "</div>"
      ],
      "text/plain": [
       "KubeCluster(mock-jupyter-cluster, 'tcp://mock-jupyter-cluster-scheduler.default:8786', workers=0, threads=0, memory=0 B)"
      ]
     },
     "metadata": {},
     "output_type": "display_data"
    }
   ],
   "source": [
    "from dask_kubernetes.operator import KubeCluster, make_cluster_spec\n",
    "\n",
    "cluster_spec = make_cluster_spec(\n",
    "    name=\"mock-jupyter-cluster\",\n",
    "    image=\"rapidsai/rapidsai-core:23.02-cuda11.8-runtime-ubuntu22.04-py3.10\",  # Replace me with your cached image\n",
    "    n_workers=1,\n",
    "    resources={\"limits\": {\"nvidia.com/gpu\": \"1\"}, \"requests\": {\"cpu\": \"50m\"}},\n",
    "    env={\"DISABLE_JUPYTER\": \"true\", \"EXTRA_PIP_PACKAGES\": \"gcsfs dask-kubernetes\"},\n",
    ")\n",
    "cluster_spec[\"spec\"][\"worker\"][\"spec\"][\"serviceAccountName\"] = \"rapids-dask\"\n",
    "\n",
    "cluster = KubeCluster(custom_cluster_spec=cluster_spec)\n",
    "cluster"
   ]
  },
  {
   "attachments": {},
   "cell_type": "markdown",
   "metadata": {},
   "source": [
    "We need to ensure our workers have the same dependencies as our Notebook session here so that it can spawn more Dask clusters so we install `gcsfs` and `dask-kubernetes`."
   ]
  },
  {
   "cell_type": "code",
   "execution_count": 36,
   "metadata": {},
   "outputs": [
    {
     "data": {
      "text/html": [
       "<div>\n",
       "    <div style=\"width: 24px; height: 24px; background-color: #e1e1e1; border: 3px solid #9D9D9D; border-radius: 5px; position: absolute;\"> </div>\n",
       "    <div style=\"margin-left: 48px;\">\n",
       "        <h3 style=\"margin-bottom: 0px;\">Client</h3>\n",
       "        <p style=\"color: #9D9D9D; margin-bottom: 0px;\">Client-85a16987-b1f9-11ed-8042-fa6ca111b70e</p>\n",
       "        <table style=\"width: 100%; text-align: left;\">\n",
       "\n",
       "        <tr>\n",
       "        \n",
       "            <td style=\"text-align: left;\"><strong>Connection method:</strong> Cluster object</td>\n",
       "            <td style=\"text-align: left;\"><strong>Cluster type:</strong> dask_kubernetes.KubeCluster</td>\n",
       "        \n",
       "        </tr>\n",
       "\n",
       "        \n",
       "            <tr>\n",
       "                <td style=\"text-align: left;\">\n",
       "                    <strong>Dashboard: </strong> <a href=\"/proxy/mock-jupyter-cluster-scheduler.default:8787/status\" target=\"_blank\">/proxy/mock-jupyter-cluster-scheduler.default:8787/status</a>\n",
       "                </td>\n",
       "                <td style=\"text-align: left;\"></td>\n",
       "            </tr>\n",
       "        \n",
       "\n",
       "        </table>\n",
       "\n",
       "        \n",
       "            <button style=\"margin-bottom: 12px;\" data-commandlinker-command=\"dask:populate-and-launch-layout\" data-commandlinker-args='{\"url\": \"/proxy/mock-jupyter-cluster-scheduler.default:8787/status\" }'>\n",
       "                Launch dashboard in JupyterLab\n",
       "            </button>\n",
       "        \n",
       "\n",
       "        \n",
       "            <details>\n",
       "            <summary style=\"margin-bottom: 20px;\"><h3 style=\"display: inline;\">Cluster Info</h3></summary>\n",
       "            <div class=\"jp-RenderedHTMLCommon jp-RenderedHTML jp-mod-trusted jp-OutputArea-output\">\n",
       "    <div style=\"width: 24px; height: 24px; background-color: #e1e1e1; border: 3px solid #9D9D9D; border-radius: 5px; position: absolute;\">\n",
       "    </div>\n",
       "    <div style=\"margin-left: 48px;\">\n",
       "        <h3 style=\"margin-bottom: 0px; margin-top: 0px;\">KubeCluster</h3>\n",
       "        <p style=\"color: #9D9D9D; margin-bottom: 0px;\">mock-jupyter-cluster</p>\n",
       "        <table style=\"width: 100%; text-align: left;\">\n",
       "            <tr>\n",
       "                <td style=\"text-align: left;\">\n",
       "                    <strong>Dashboard:</strong> <a href=\"/proxy/mock-jupyter-cluster-scheduler.default:8787/status\" target=\"_blank\">/proxy/mock-jupyter-cluster-scheduler.default:8787/status</a>\n",
       "                </td>\n",
       "                <td style=\"text-align: left;\">\n",
       "                    <strong>Workers:</strong> 0\n",
       "                </td>\n",
       "            </tr>\n",
       "            <tr>\n",
       "                <td style=\"text-align: left;\">\n",
       "                    <strong>Total threads:</strong> 0\n",
       "                </td>\n",
       "                <td style=\"text-align: left;\">\n",
       "                    <strong>Total memory:</strong> 0 B\n",
       "                </td>\n",
       "            </tr>\n",
       "            \n",
       "        </table>\n",
       "\n",
       "        <details>\n",
       "            <summary style=\"margin-bottom: 20px;\">\n",
       "                <h3 style=\"display: inline;\">Scheduler Info</h3>\n",
       "            </summary>\n",
       "\n",
       "            <div style=\"\">\n",
       "    <div>\n",
       "        <div style=\"width: 24px; height: 24px; background-color: #FFF7E5; border: 3px solid #FF6132; border-radius: 5px; position: absolute;\"> </div>\n",
       "        <div style=\"margin-left: 48px;\">\n",
       "            <h3 style=\"margin-bottom: 0px;\">Scheduler</h3>\n",
       "            <p style=\"color: #9D9D9D; margin-bottom: 0px;\">Scheduler-f6d55e0c-a7b1-4dfd-80b4-be0566b14cce</p>\n",
       "            <table style=\"width: 100%; text-align: left;\">\n",
       "                <tr>\n",
       "                    <td style=\"text-align: left;\">\n",
       "                        <strong>Comm:</strong> tcp://10.28.1.12:8786\n",
       "                    </td>\n",
       "                    <td style=\"text-align: left;\">\n",
       "                        <strong>Workers:</strong> 0\n",
       "                    </td>\n",
       "                </tr>\n",
       "                <tr>\n",
       "                    <td style=\"text-align: left;\">\n",
       "                        <strong>Dashboard:</strong> <a href=\"/proxy/10.28.1.12:8787/status\" target=\"_blank\">/proxy/10.28.1.12:8787/status</a>\n",
       "                    </td>\n",
       "                    <td style=\"text-align: left;\">\n",
       "                        <strong>Total threads:</strong> 0\n",
       "                    </td>\n",
       "                </tr>\n",
       "                <tr>\n",
       "                    <td style=\"text-align: left;\">\n",
       "                        <strong>Started:</strong> Just now\n",
       "                    </td>\n",
       "                    <td style=\"text-align: left;\">\n",
       "                        <strong>Total memory:</strong> 0 B\n",
       "                    </td>\n",
       "                </tr>\n",
       "            </table>\n",
       "        </div>\n",
       "    </div>\n",
       "\n",
       "    <details style=\"margin-left: 48px;\">\n",
       "        <summary style=\"margin-bottom: 20px;\">\n",
       "            <h3 style=\"display: inline;\">Workers</h3>\n",
       "        </summary>\n",
       "\n",
       "        \n",
       "\n",
       "    </details>\n",
       "</div>\n",
       "\n",
       "        </details>\n",
       "    </div>\n",
       "</div>\n",
       "            </details>\n",
       "        \n",
       "\n",
       "    </div>\n",
       "</div>"
      ],
      "text/plain": [
       "<Client: 'tcp://10.28.1.12:8786' processes=0 threads=0, memory=0 B>"
      ]
     },
     "execution_count": 36,
     "metadata": {},
     "output_type": "execute_result"
    }
   ],
   "source": [
    "client = Client(cluster)\n",
    "client"
   ]
  },
  {
   "cell_type": "markdown",
   "metadata": {},
   "source": [
    "Now lets submit our workload again but this time to our cluster. Our function will be sent to our \"Jupyter\" worker which will then spawn another Dask cluster to run the workload. We don't have enough GPUs in our cluster to do this so it will trigger another scale operation."
   ]
  },
  {
   "cell_type": "code",
   "execution_count": 20,
   "metadata": {},
   "outputs": [
    {
     "name": "stdout",
     "output_type": "stream",
     "text": [
      "CPU times: user 950 ms, sys: 9.1 ms, total: 959 ms\n",
      "Wall time: 27.1 s\n"
     ]
    }
   ],
   "source": [
    "%%time\n",
    "run_haversine().compute()"
   ]
  },
  {
   "attachments": {},
   "cell_type": "markdown",
   "metadata": {},
   "source": [
    "Now let's write a small function which we can use to build up arbitrarily complex workloads. We can define how many stages we have, how many concurrent Dask clusters their should be, how quickly to vary width over time, etc."
   ]
  },
  {
   "cell_type": "code",
   "execution_count": 22,
   "metadata": {},
   "outputs": [],
   "source": [
    "from random import randrange\n",
    "\n",
    "\n",
    "def generate_workload(\n",
    "    stages=3, min_width=1, max_width=3, variation=1, input_workload=None\n",
    "):\n",
    "    graph = [input_workload] if input_workload is not None else [run_haversine()]\n",
    "    last_width = min_width\n",
    "    for stage in range(stages):\n",
    "        width = randrange(\n",
    "            max(min_width, last_width - variation),\n",
    "            min(max_width, last_width + variation) + 1,\n",
    "        )\n",
    "        graph = [run_haversine(*graph) for _ in range(width)]\n",
    "        last_width = width\n",
    "    return run_haversine(*graph)"
   ]
  },
  {
   "cell_type": "code",
   "execution_count": 37,
   "metadata": {},
   "outputs": [],
   "source": [
    "cluster.scale(3)  # Let's also bump up our user cluster to show more users logging in."
   ]
  },
  {
   "cell_type": "markdown",
   "metadata": {},
   "source": [
    "To visualize our graphs let's check that we have `graphviz` installed."
   ]
  },
  {
   "cell_type": "code",
   "execution_count": 23,
   "metadata": {},
   "outputs": [
    {
     "name": "stdout",
     "output_type": "stream",
     "text": [
      "Preparing transaction: ...working... done\n",
      "Verifying transaction: ...working... done\n",
      "Executing transaction: ...working... \n",
      "\n",
      "done\n"
     ]
    }
   ],
   "source": [
    "!mamba install -c conda-forge --quiet graphviz python-graphviz -y"
   ]
  },
  {
   "cell_type": "markdown",
   "metadata": {},
   "source": [
    "Let's start with a small workload which will run a couple of stages and trigger a scale up."
   ]
  },
  {
   "cell_type": "code",
   "execution_count": 35,
   "metadata": {
    "tags": []
   },
   "outputs": [
    {
     "data": {
      "image/png": "[encoded data removed]",
      "text/plain": [
       "<IPython.core.display.Image object>"
      ]
     },
     "execution_count": 35,
     "metadata": {},
     "output_type": "execute_result"
    }
   ],
   "source": [
    "workload = generate_workload(stages=2, max_width=2)\n",
    "workload.visualize()"
   ]
  },
  {
   "attachments": {},
   "cell_type": "markdown",
   "metadata": {},
   "source": [
    "This is great we have multiple stages where one or two users are running workloads at the same time. Now lets chain a bunch of these workloads together to simulate varying demands over a larger period of time.\n",
    "\n",
    "We will also track the start and end times of the run so that we can grab the right data from Prometheus later."
   ]
  },
  {
   "cell_type": "code",
   "execution_count": 24,
   "metadata": {},
   "outputs": [],
   "source": [
    "import datetime"
   ]
  },
  {
   "attachments": {},
   "cell_type": "markdown",
   "metadata": {},
   "source": [
    "```{warning}\n",
    "The next cell will take around 1h to run.\n",
    "```"
   ]
  },
  {
   "cell_type": "code",
   "execution_count": 38,
   "metadata": {
    "tags": []
   },
   "outputs": [
    {
     "name": "stderr",
     "output_type": "stream",
     "text": [
      "Task exception was never retrieved\n",
      "future: <Task finished name='Task-724' coro=<Client._gather.<locals>.wait() done, defined at /opt/conda/envs/rapids/lib/python3.9/site-packages/distributed/client.py:2119> exception=AllExit()>\n",
      "Traceback (most recent call last):\n",
      "  File \"/opt/conda/envs/rapids/lib/python3.9/site-packages/distributed/client.py\", line 2128, in wait\n",
      "    raise AllExit()\n",
      "distributed.client.AllExit\n"
     ]
    },
    {
     "name": "stdout",
     "output_type": "stream",
     "text": [
      "CPU times: user 2min 43s, sys: 3.04 s, total: 2min 46s\n",
      "Wall time: 1h 18min 18s\n"
     ]
    }
   ],
   "source": [
    "%%time\n",
    "start_time = (datetime.datetime.now() - datetime.timedelta(minutes=15)).strftime(\n",
    "    \"%Y-%m-%dT%H:%M:%SZ\"\n",
    ")\n",
    "try:\n",
    "    # Start with a couple of concurrent workloads\n",
    "    workload = generate_workload(stages=10, max_width=2)\n",
    "    # Then increase demand as more users appear\n",
    "    workload = generate_workload(\n",
    "        stages=5, max_width=5, min_width=3, variation=5, input_workload=workload\n",
    "    )\n",
    "    # Now reduce the workload for a longer period of time, this could be over a lunchbreak or something\n",
    "    workload = generate_workload(stages=30, max_width=2, input_workload=workload)\n",
    "    # Everyone is back from lunch and it hitting the cluster hard\n",
    "    workload = generate_workload(\n",
    "        stages=10, max_width=10, min_width=3, variation=5, input_workload=workload\n",
    "    )\n",
    "    # The after lunch rush is easing\n",
    "    workload = generate_workload(\n",
    "        stages=5, max_width=5, min_width=3, variation=5, input_workload=workload\n",
    "    )\n",
    "    # As we get towards the end of the day demand slows off again\n",
    "    workload = generate_workload(stages=10, max_width=2, input_workload=workload)\n",
    "    workload.compute()\n",
    "finally:\n",
    "    client.close()\n",
    "    cluster.close()\n",
    "    end_time = (datetime.datetime.now() + datetime.timedelta(minutes=15)).strftime(\n",
    "        \"%Y-%m-%dT%H:%M:%SZ\"\n",
    "    )"
   ]
  },
  {
   "attachments": {},
   "cell_type": "markdown",
   "metadata": {},
   "source": [
    "Ok great, our large graph of workloads resulted in ~200 clusters launching throughout the run with varying capacity demands and took just over an hour to run."
   ]
  },
  {
   "attachments": {},
   "cell_type": "markdown",
   "metadata": {},
   "source": [
    "## Analysis\n",
    "\n",
    "Let's explore the data we've been collecting with Prometheus to see how our cluster perforumed during our simulated workload. We could do this in [Grafana](https://grafana.com/), but instead let's stay in the notebook and use `prometheus-pandas`."
   ]
  },
  {
   "cell_type": "code",
   "execution_count": 39,
   "metadata": {
    "tags": []
   },
   "outputs": [
    {
     "name": "stdout",
     "output_type": "stream",
     "text": [
      "Collecting prometheus-pandas\n",
      "  Downloading prometheus_pandas-0.3.2-py3-none-any.whl (6.1 kB)\n",
      "Requirement already satisfied: numpy in /opt/conda/envs/rapids/lib/python3.9/site-packages (from prometheus-pandas) (1.23.5)\n",
      "Requirement already satisfied: pandas in /opt/conda/envs/rapids/lib/python3.9/site-packages (from prometheus-pandas) (1.5.2)\n",
      "Requirement already satisfied: python-dateutil>=2.8.1 in /opt/conda/envs/rapids/lib/python3.9/site-packages (from pandas->prometheus-pandas) (2.8.2)\n",
      "Requirement already satisfied: pytz>=2020.1 in /opt/conda/envs/rapids/lib/python3.9/site-packages (from pandas->prometheus-pandas) (2022.6)\n",
      "Requirement already satisfied: six>=1.5 in /opt/conda/envs/rapids/lib/python3.9/site-packages (from python-dateutil>=2.8.1->pandas->prometheus-pandas) (1.16.0)\n",
      "Installing collected packages: prometheus-pandas\n",
      "Successfully installed prometheus-pandas-0.3.2\n",
      "\u001b[33mWARNING: Running pip as the 'root' user can result in broken permissions and conflicting behaviour with the system package manager. It is recommended to use a virtual environment instead: https://pip.pypa.io/warnings/venv\u001b[0m\u001b[33m\n",
      "\u001b[0m"
     ]
    }
   ],
   "source": [
    "! pip install prometheus-pandas"
   ]
  },
  {
   "attachments": {},
   "cell_type": "markdown",
   "metadata": {},
   "source": [
    "Connect to the prometheus endpoint within our cluster."
   ]
  },
  {
   "cell_type": "code",
   "execution_count": 41,
   "metadata": {},
   "outputs": [],
   "source": [
    "from prometheus_pandas import query\n",
    "\n",
    "p = query.Prometheus(\"http://kube-prometheus-stack-prometheus.prometheus:9090\")"
   ]
  },
  {
   "attachments": {},
   "cell_type": "markdown",
   "metadata": {},
   "source": [
    "### Pending pods\n",
    "\n",
    "First let's see how long each of our Pods spent in a `Pending` phase. This is the amount of time users would have to wait for their work to start running when they create their Dask clusters."
   ]
  },
  {
   "cell_type": "code",
   "execution_count": 42,
   "metadata": {},
   "outputs": [],
   "source": [
    "pending_pods = p.query_range(\n",
    "    'kube_pod_status_phase{phase=\"Pending\",namespace=\"default\"}',\n",
    "    start_time,\n",
    "    end_time,\n",
    "    \"1s\",\n",
    ").sum()"
   ]
  },
  {
   "cell_type": "code",
   "execution_count": 43,
   "metadata": {},
   "outputs": [],
   "source": [
    "from dask.utils import format_time"
   ]
  },
  {
   "cell_type": "markdown",
   "metadata": {},
   "source": [
    "Average time for Pod creation."
   ]
  },
  {
   "cell_type": "code",
   "execution_count": 44,
   "metadata": {},
   "outputs": [
    {
     "data": {
      "text/plain": [
       "'2.00 s'"
      ]
     },
     "execution_count": 44,
     "metadata": {},
     "output_type": "execute_result"
    }
   ],
   "source": [
    "format_time(pending_pods.median())"
   ]
  },
  {
   "cell_type": "code",
   "execution_count": 45,
   "metadata": {},
   "outputs": [
    {
     "data": {
      "text/plain": [
       "'22.35 s'"
      ]
     },
     "execution_count": 45,
     "metadata": {},
     "output_type": "execute_result"
    }
   ],
   "source": [
    "format_time(pending_pods.mean())"
   ]
  },
  {
   "cell_type": "markdown",
   "metadata": {},
   "source": [
    "99th percentile time for Pod creation."
   ]
  },
  {
   "cell_type": "code",
   "execution_count": 46,
   "metadata": {},
   "outputs": [
    {
     "data": {
      "text/plain": [
       "'326.00 s'"
      ]
     },
     "execution_count": 46,
     "metadata": {},
     "output_type": "execute_result"
    }
   ],
   "source": [
    "format_time(pending_pods.quantile(0.99))"
   ]
  },
  {
   "attachments": {},
   "cell_type": "markdown",
   "metadata": {},
   "source": [
    "These numbers seem great, the most common start time for a cluster is two seconds! With the average being around 20 seconds. If your cluster triggers Kubernetes to scale up you could be waiting for 5 minutes though. Let's see how many users would end up in that situation."
   ]
  },
  {
   "attachments": {},
   "cell_type": "markdown",
   "metadata": {},
   "source": [
    "What percentage of users get workers in less than 2 seconds, 5 seconds, 60 seconds, etc?"
   ]
  },
  {
   "cell_type": "code",
   "execution_count": 47,
   "metadata": {},
   "outputs": [
    {
     "data": {
      "text/plain": [
       "59.70873786407767"
      ]
     },
     "execution_count": 47,
     "metadata": {},
     "output_type": "execute_result"
    }
   ],
   "source": [
    "from scipy import stats\n",
    "\n",
    "stats.percentileofscore(pending_pods, 2.01)"
   ]
  },
  {
   "cell_type": "code",
   "execution_count": 48,
   "metadata": {},
   "outputs": [
    {
     "data": {
      "text/plain": [
       "72.00647249190939"
      ]
     },
     "execution_count": 48,
     "metadata": {},
     "output_type": "execute_result"
    }
   ],
   "source": [
    "stats.percentileofscore(pending_pods, 5.01)"
   ]
  },
  {
   "cell_type": "code",
   "execution_count": 49,
   "metadata": {},
   "outputs": [
    {
     "data": {
      "text/plain": [
       "91.10032362459548"
      ]
     },
     "execution_count": 49,
     "metadata": {},
     "output_type": "execute_result"
    }
   ],
   "source": [
    "stats.percentileofscore(pending_pods, 60.01)"
   ]
  },
  {
   "attachments": {},
   "cell_type": "markdown",
   "metadata": {},
   "source": [
    "Ok this looks pretty reasonable. Nearly 75% of users get a cluster in less than 5 seconds, and over 90% get it in under a minute. But if you're in the other 10% you may have to wait for 5 minutes."
   ]
  },
  {
   "attachments": {},
   "cell_type": "markdown",
   "metadata": {},
   "source": [
    "Let's bucket this data to see the distribution of startup times visually."
   ]
  },
  {
   "cell_type": "code",
   "execution_count": 52,
   "metadata": {},
   "outputs": [
    {
     "data": {
      "text/plain": [
       "Text(0, 0.5, 'Pods')"
      ]
     },
     "execution_count": 52,
     "metadata": {},
     "output_type": "execute_result"
    },
    {
     "data": {
      "image/png": "[encoded data removed]",
      "text/plain": [
       "<Figure size 640x480 with 1 Axes>"
      ]
     },
     "metadata": {},
     "output_type": "display_data"
    }
   ],
   "source": [
    "ax = pending_pods.hist(bins=range(0, 600, 30))\n",
    "ax.set_title(\"Dask Worker Pod wait times\")\n",
    "ax.set_xlabel(\"Seconds\")\n",
    "ax.set_ylabel(\"Pods\")"
   ]
  },
  {
   "cell_type": "code",
   "execution_count": 53,
   "metadata": {},
   "outputs": [
    {
     "data": {
      "text/plain": [
       "Text(0, 0.5, 'Pods')"
      ]
     },
     "execution_count": 53,
     "metadata": {},
     "output_type": "execute_result"
    },
    {
     "data": {
      "image/png": "[encoded data removed]",
      "text/plain": [
       "<Figure size 640x480 with 1 Axes>"
      ]
     },
     "metadata": {},
     "output_type": "display_data"
    }
   ],
   "source": [
    "ax = pending_pods.hist(bins=range(0, 60, 2))\n",
    "ax.set_title(\"Dask Worker Pod wait times (First minute)\")\n",
    "ax.set_xlabel(\"Seconds\")\n",
    "ax.set_ylabel(\"Pods\")"
   ]
  },
  {
   "attachments": {},
   "cell_type": "markdown",
   "metadata": {},
   "source": [
    "Here we can see clearly that most users get their worker Pods scheduled in less than 5 seconds. "
   ]
  },
  {
   "attachments": {},
   "cell_type": "markdown",
   "metadata": {},
   "source": [
    "### Cluster scaling and efficiency\n",
    "\n",
    "Ok so our users are getting clusters nice and quick, that's because there is some warm capacity in the Kubernetes cluster that they are able to grab. When the limit is reached GKE autoscales to add new nodes. When demand drops for a while capacity is released again to save cost. "
   ]
  },
  {
   "attachments": {},
   "cell_type": "markdown",
   "metadata": {},
   "source": [
    "Lets query to see how many nodes there were during the run and combine that with the number of running GPU Pods there were to see how efficiently we were using our resources."
   ]
  },
  {
   "cell_type": "code",
   "execution_count": null,
   "metadata": {},
   "outputs": [],
   "source": [
    "running_pods = p.query_range(\n",
    "    'kube_pod_status_phase{phase=~\"Running|ContainerCreating\",namespace=\"default\"}',\n",
    "    start_time,\n",
    "    end_time,\n",
    "    \"1s\",\n",
    ")\n",
    "running_pods = running_pods[\n",
    "    running_pods.columns.drop(list(running_pods.filter(regex=\"prepull\")))\n",
    "]\n",
    "nodes = p.query_range(\"count(kube_node_info)\", start_time, end_time, \"1s\")\n",
    "nodes.columns = [\"Available GPUs\"]\n",
    "nodes[\"Available GPUs\"] = (\n",
    "    nodes[\"Available GPUs\"] * 2\n",
    ")  # We know our nodes each had 2 GPUs\n",
    "nodes[\"Utilized GPUs\"] = running_pods.sum(axis=1)"
   ]
  },
  {
   "cell_type": "code",
   "execution_count": 59,
   "metadata": {},
   "outputs": [
    {
     "data": {
      "text/plain": [
       "<AxesSubplot: >"
      ]
     },
     "execution_count": 59,
     "metadata": {},
     "output_type": "execute_result"
    },
    {
     "data": {
      "image/png": "[encoded data removed]",
      "text/plain": [
       "<Figure size 640x480 with 1 Axes>"
      ]
     },
     "metadata": {},
     "output_type": "display_data"
    }
   ],
   "source": [
    "nodes.plot()"
   ]
  },
  {
   "attachments": {},
   "cell_type": "markdown",
   "metadata": {},
   "source": [
    "Excellent so we can see our cluster adding and removing nodes as our workload demand changed. The space between the orange and blue lines is our warm capacity. Ideally we want this to be as small as possible. Let's calculate what the gap is.\n",
    "\n",
    "How many GPU hours did our users utilize?"
   ]
  },
  {
   "cell_type": "code",
   "execution_count": 60,
   "metadata": {},
   "outputs": [
    {
     "data": {
      "text/plain": [
       "15.208055555555555"
      ]
     },
     "execution_count": 60,
     "metadata": {},
     "output_type": "execute_result"
    }
   ],
   "source": [
    "gpu_hours_utilized = nodes[\"Utilized GPUs\"].sum() / 60 / 60\n",
    "gpu_hours_utilized"
   ]
  },
  {
   "attachments": {},
   "cell_type": "markdown",
   "metadata": {},
   "source": [
    "How many GPU hours were we charged for?"
   ]
  },
  {
   "cell_type": "code",
   "execution_count": 61,
   "metadata": {},
   "outputs": [
    {
     "data": {
      "text/plain": [
       "23.938333333333333"
      ]
     },
     "execution_count": 61,
     "metadata": {},
     "output_type": "execute_result"
    }
   ],
   "source": [
    "gpu_hours_cost = nodes[\"Available GPUs\"].sum() / 60 / 60\n",
    "gpu_hours_cost"
   ]
  },
  {
   "attachments": {},
   "cell_type": "markdown",
   "metadata": {},
   "source": [
    "What was the overhead?"
   ]
  },
  {
   "cell_type": "code",
   "execution_count": 63,
   "metadata": {},
   "outputs": [
    {
     "data": {
      "text/plain": [
       "'36% overhead'"
      ]
     },
     "execution_count": 63,
     "metadata": {},
     "output_type": "execute_result"
    }
   ],
   "source": [
    "overhead = (1 - (gpu_hours_utilized / gpu_hours_cost)) * 100\n",
    "str(int(overhead)) + \"% overhead\""
   ]
  },
  {
   "attachments": {},
   "cell_type": "markdown",
   "metadata": {},
   "source": [
    "Ok not bad, so on our interactive cluster we managed 64% utilization of our GPU resources. Compared to non-autoscaling workloads where users interactively use long running workstations and clusters this is fantastic.\n",
    "\n",
    "If we measured batch workloads that ran for longer periods we would see this utilization clumb much higher."
   ]
  },
  {
   "attachments": {},
   "cell_type": "markdown",
   "metadata": {},
   "source": [
    "## Closing thoughts\n",
    "\n",
    "By sharing a Kubernetes cluster between many users who are all launching many ephemeral Dask Clusters to perform their work we are able to balance cost vs user time. Peaks in individual user demands get smoothed out over time in a multi-tenant model, and the overall peaks and troughs of the day are accomodated by the Kubernetes cluster autoscaler.\n",
    "\n",
    "We managed to create a responsive experience for our users where they generally got Dask clusters in a few seconds. We also managed to hit 64% utilization of the GPUs in our cluster, a very respectable number for an interactive cluster. \n",
    "\n",
    "There are more things we could tune to increase utilization, but there are also some tradeoffs to be made here. If we scale down more aggressively then we would end up needing to scale back up more often resulting in more users waiting longer for their clusters. \n",
    "\n",
    "We can also see there there is some unused capacity between the nodes starting and our workload running. This is the time when image pulling happens, drivers get installed, etc. There are definitely things we could do to improve this so that nodes are ready to go as soon as they have booted.\n",
    "\n",
    "Compared to every user spinning up dedicated nodes for their individual workloads and paying the driver install and environment pull wait time and overhead cost every time, we are pooling our resources and reusing our capacity effectively."
   ]
  },
  {
   "cell_type": "markdown",
   "metadata": {},
   "source": [
    "## Teardown\n",
    "\n",
    "Finally to clean everything up we can delete our GKE cluster by running the following command locally."
   ]
  },
  {
   "cell_type": "code",
   "execution_count": 43,
   "metadata": {},
   "outputs": [
    {
     "name": "stdout",
     "output_type": "stream",
     "text": [
      "Deleting cluster multi-tenant-rapids...done.                                   \n",
      "Deleted [https://container.googleapis.com/v1/projects/nv-ai-infra/zones/us-central1/clusters/multi-tenant-rapids].\n"
     ]
    }
   ],
   "source": [
    "! gcloud container clusters delete multi-tenant-rapids --region us-central1 --quiet"
   ]
  }
 ],
 "metadata": {
  "kernelspec": {
   "display_name": "Python 3 (ipykernel)",
   "language": "python",
   "name": "python3"
  },
  "language_info": {
   "codemirror_mode": {
    "name": "ipython",
    "version": 3
   },
   "file_extension": ".py",
   "mimetype": "text/x-python",
   "name": "python",
   "nbconvert_exporter": "python",
   "pygments_lexer": "ipython3",
   "version": "3.9.15"
  },
  "vscode": {
   "interpreter": {
    "hash": "f7a54d993f849a0f97fda357a1a3bac7e25a43aff77e618e8d69a4ad36661dba"
   }
  }
 },
 "nbformat": 4,
 "nbformat_minor": 4
}
